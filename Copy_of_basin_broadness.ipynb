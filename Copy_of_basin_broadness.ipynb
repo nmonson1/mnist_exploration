{
  "nbformat": 4,
  "nbformat_minor": 0,
  "metadata": {
    "colab": {
      "provenance": [],
      "include_colab_link": true
    },
    "kernelspec": {
      "name": "python3",
      "display_name": "Python 3"
    },
    "language_info": {
      "name": "python"
    }
  },
  "cells": [
    {
      "cell_type": "markdown",
      "metadata": {
        "id": "view-in-github",
        "colab_type": "text"
      },
      "source": [
        "<a href=\"https://colab.research.google.com/github/nmonson1/mnist_exploration/blob/main/Copy_of_basin_broadness.ipynb\" target=\"_parent\"><img src=\"https://colab.research.google.com/assets/colab-badge.svg\" alt=\"Open In Colab\"/></a>"
      ]
    },
    {
      "cell_type": "code",
      "execution_count": null,
      "metadata": {
        "id": "zHr-0KE6xQ67",
        "colab": {
          "base_uri": "https://localhost:8080/"
        },
        "outputId": "bb35c759-ea4f-4da2-f7be-fef1e5d80761"
      },
      "outputs": [
        {
          "output_type": "stream",
          "name": "stdout",
          "text": [
            "torch version: 2.0.1+cu118\n"
          ]
        }
      ],
      "source": [
        "from typing import Optional, Sequence, Iterable, Callable\n",
        "from itertools import pairwise\n",
        "\n",
        "import tqdm\n",
        "import numpy as np\n",
        "import torch\n",
        "from torch import nn\n",
        "from torch.utils.data import DataLoader\n",
        "from torchvision.datasets import MNIST\n",
        "from torchvision.transforms import ToTensor\n",
        "print(\"torch version:\", torch.__version__)"
      ]
    },
    {
      "cell_type": "code",
      "source": [
        "# Prepare data\n",
        "batch_size = 512\n",
        "trainloader = DataLoader(\n",
        "    dataset=MNIST(\n",
        "        root='data',\n",
        "        train=True,\n",
        "        download=True,\n",
        "        transform=ToTensor(),\n",
        "    ),\n",
        "    batch_size=batch_size,\n",
        "    shuffle=True,\n",
        ")\n",
        "valloader = DataLoader(\n",
        "    dataset=MNIST(\n",
        "        root='data',\n",
        "        train=False,\n",
        "        download=True,\n",
        "        transform=ToTensor(),\n",
        "    ),\n",
        "    batch_size=batch_size,\n",
        "    shuffle=False,\n",
        ")"
      ],
      "metadata": {
        "id": "oP0Q_asoxd6B",
        "colab": {
          "base_uri": "https://localhost:8080/"
        },
        "outputId": "043ab684-face-4f84-80d6-a32670e24a91"
      },
      "execution_count": null,
      "outputs": [
        {
          "output_type": "stream",
          "name": "stdout",
          "text": [
            "Downloading http://yann.lecun.com/exdb/mnist/train-images-idx3-ubyte.gz\n",
            "Downloading http://yann.lecun.com/exdb/mnist/train-images-idx3-ubyte.gz to data/MNIST/raw/train-images-idx3-ubyte.gz\n"
          ]
        },
        {
          "output_type": "stream",
          "name": "stderr",
          "text": [
            "100%|██████████| 9912422/9912422 [00:00<00:00, 171948961.06it/s]"
          ]
        },
        {
          "output_type": "stream",
          "name": "stdout",
          "text": [
            "Extracting data/MNIST/raw/train-images-idx3-ubyte.gz to data/MNIST/raw\n"
          ]
        },
        {
          "output_type": "stream",
          "name": "stderr",
          "text": [
            "\n"
          ]
        },
        {
          "output_type": "stream",
          "name": "stdout",
          "text": [
            "\n",
            "Downloading http://yann.lecun.com/exdb/mnist/train-labels-idx1-ubyte.gz\n",
            "Downloading http://yann.lecun.com/exdb/mnist/train-labels-idx1-ubyte.gz to data/MNIST/raw/train-labels-idx1-ubyte.gz\n"
          ]
        },
        {
          "output_type": "stream",
          "name": "stderr",
          "text": [
            "100%|██████████| 28881/28881 [00:00<00:00, 30854736.07it/s]\n"
          ]
        },
        {
          "output_type": "stream",
          "name": "stdout",
          "text": [
            "Extracting data/MNIST/raw/train-labels-idx1-ubyte.gz to data/MNIST/raw\n",
            "\n",
            "Downloading http://yann.lecun.com/exdb/mnist/t10k-images-idx3-ubyte.gz\n",
            "Downloading http://yann.lecun.com/exdb/mnist/t10k-images-idx3-ubyte.gz to data/MNIST/raw/t10k-images-idx3-ubyte.gz\n"
          ]
        },
        {
          "output_type": "stream",
          "name": "stderr",
          "text": [
            "100%|██████████| 1648877/1648877 [00:00<00:00, 140939298.89it/s]"
          ]
        },
        {
          "output_type": "stream",
          "name": "stdout",
          "text": [
            "Extracting data/MNIST/raw/t10k-images-idx3-ubyte.gz to data/MNIST/raw\n",
            "\n",
            "Downloading http://yann.lecun.com/exdb/mnist/t10k-labels-idx1-ubyte.gz\n"
          ]
        },
        {
          "output_type": "stream",
          "name": "stderr",
          "text": [
            "\n"
          ]
        },
        {
          "output_type": "stream",
          "name": "stdout",
          "text": [
            "Downloading http://yann.lecun.com/exdb/mnist/t10k-labels-idx1-ubyte.gz to data/MNIST/raw/t10k-labels-idx1-ubyte.gz\n"
          ]
        },
        {
          "output_type": "stream",
          "name": "stderr",
          "text": [
            "100%|██████████| 4542/4542 [00:00<00:00, 12330439.33it/s]\n"
          ]
        },
        {
          "output_type": "stream",
          "name": "stdout",
          "text": [
            "Extracting data/MNIST/raw/t10k-labels-idx1-ubyte.gz to data/MNIST/raw\n",
            "\n"
          ]
        }
      ]
    },
    {
      "cell_type": "code",
      "source": [
        "# Verify batch size of input data\n",
        "for tensor, label in trainloader:\n",
        "    print(tensor.size(), label.size())\n",
        "    break\n",
        "# dim(tensor) = [B, 1, py, px]\n",
        "# dim(label) = [B]"
      ],
      "metadata": {
        "id": "23cdhFA6yPK8",
        "colab": {
          "base_uri": "https://localhost:8080/"
        },
        "outputId": "1501d981-543c-4df7-c1fb-e5d56a78ba8a"
      },
      "execution_count": null,
      "outputs": [
        {
          "output_type": "stream",
          "name": "stdout",
          "text": [
            "torch.Size([512, 1, 28, 28]) torch.Size([512])\n"
          ]
        }
      ]
    },
    {
      "cell_type": "code",
      "source": [
        "class FeedforwardClassifier(nn.Module):\n",
        "    '''Very basic clasifier for MNIST.'''\n",
        "\n",
        "    def __init__(\n",
        "        self,\n",
        "        *,\n",
        "        input_dims: Iterable[int] = (1, 28, 28),\n",
        "        hidden_dims: Optional[Sequence[int]] = None,\n",
        "        n_classes: int = 10,\n",
        "    ):\n",
        "        super().__init__()\n",
        "        if hidden_dims is None:\n",
        "            hidden_dims = (5,)\n",
        "        linear_dims = (np.prod(input_dims), *hidden_dims)\n",
        "        self.layers = nn.Sequential(\n",
        "            nn.Flatten(),\n",
        "            *(\n",
        "                get_layer()\n",
        "                for d_in, d_out in pairwise(linear_dims)\n",
        "                for get_layer in [\n",
        "                    lambda: nn.Linear(d_in, d_out),\n",
        "                    lambda: nn.ReLU(),\n",
        "                ]\n",
        "            ),\n",
        "            nn.Linear(linear_dims[-1], n_classes),\n",
        "        )\n",
        "\n",
        "    def forward(self, tensor: torch.Tensor) -> torch.Tensor:\n",
        "        return self.layers(tensor)"
      ],
      "metadata": {
        "id": "6XuXzLMpzV5X"
      },
      "execution_count": null,
      "outputs": []
    },
    {
      "cell_type": "code",
      "source": [],
      "metadata": {
        "id": "YfIW-EU6Qt-3"
      },
      "execution_count": null,
      "outputs": []
    },
    {
      "cell_type": "code",
      "source": [
        "# Initialize model\n",
        "device = 'cuda' if torch.cuda.is_available() else 'cpu'\n",
        "model = FeedforwardClassifier(hidden_dims=(5,)).to(device)\n",
        "#model = ConvolutionalClassifier().to(device)\n",
        "print(model)\n",
        "print('No. of parameters:', sum(np.prod(p.size()) for p in model.parameters()))"
      ],
      "metadata": {
        "id": "bHwNMknC6ECp",
        "colab": {
          "base_uri": "https://localhost:8080/"
        },
        "outputId": "d5f9c727-e709-4606-a6db-96eda3c9b468"
      },
      "execution_count": null,
      "outputs": [
        {
          "output_type": "stream",
          "name": "stdout",
          "text": [
            "FeedforwardClassifier(\n",
            "  (layers): Sequential(\n",
            "    (0): Flatten(start_dim=1, end_dim=-1)\n",
            "    (1): Linear(in_features=784, out_features=5, bias=True)\n",
            "    (2): ReLU()\n",
            "    (3): Linear(in_features=5, out_features=10, bias=True)\n",
            "  )\n",
            ")\n",
            "No. of parameters: 3985\n"
          ]
        }
      ]
    },
    {
      "cell_type": "code",
      "source": [
        "# Set-up optimizer\n",
        "weight_decay = 0.01\n"
      ],
      "metadata": {
        "id": "Hv7Lv5ra6Ve-"
      },
      "execution_count": null,
      "outputs": []
    },
    {
      "cell_type": "code",
      "source": [
        "# Train network\n",
        "num_models=30\n",
        "models = []\n",
        "val_accs=[]\n",
        "for m in range(num_models):\n",
        "  print(m)\n",
        "  model = FeedforwardClassifier(hidden_dims=(5,)).to(device)\n",
        "  optimizer = torch.optim.Adam(model.parameters(), weight_decay=weight_decay)\n",
        "  loss_fn = nn.CrossEntropyLoss()\n",
        "  n_epochs = 6\n",
        "  with tqdm.tqdm(total=n_epochs * len(trainloader.dataset)) as pbar:\n",
        "      model.train()\n",
        "      for epoch in range(n_epochs):\n",
        "          n_correct = 0\n",
        "          n_samples = 0\n",
        "          for x, label in trainloader:\n",
        "              x, label = x.to(device), label.to(device)\n",
        "\n",
        "              # Compute loss\n",
        "              logits = model(x)\n",
        "              loss = loss_fn(logits, label)\n",
        "\n",
        "              n_samples += logits.size(0)\n",
        "              n_correct += (logits.argmax(1) == label).sum().item()\n",
        "\n",
        "              # Update weights\n",
        "              loss.backward()\n",
        "              optimizer.step()\n",
        "              optimizer.zero_grad()\n",
        "              pbar.update(logits.size(0))\n",
        "\n",
        "          # Log progress\n",
        "          pbar.write(f' Train acc: {n_correct / n_samples}')\n",
        "\n",
        "          # Validation score\n",
        "      n_correct = 0\n",
        "      n_samples = 0\n",
        "      model.eval()\n",
        "      for x, label in valloader:\n",
        "          x, label = x.to(device), label.to(device)\n",
        "\n",
        "          # Compute loss\n",
        "          with torch.no_grad():\n",
        "              logits = model(x)\n",
        "\n",
        "          n_samples += logits.size(0)\n",
        "          n_correct += (logits.argmax(1) == label).sum().item()\n",
        "\n",
        "      pbar.write(f' Val acc: {n_correct / n_samples}')\n",
        "      val_accs.append(n_correct / n_samples)\n",
        "      models.append(model)"
      ],
      "metadata": {
        "id": "w9zZ7iBq66PY",
        "colab": {
          "base_uri": "https://localhost:8080/"
        },
        "outputId": "b112c170-182f-47d3-e165-8ffd39927052"
      },
      "execution_count": null,
      "outputs": [
        {
          "output_type": "stream",
          "name": "stdout",
          "text": [
            "0\n"
          ]
        },
        {
          "output_type": "stream",
          "name": "stderr",
          "text": [
            " 17%|█▋        | 60512/360000 [00:18<01:46, 2810.08it/s]"
          ]
        },
        {
          "output_type": "stream",
          "name": "stdout",
          "text": [
            " Train acc: 0.44176666666666664\n"
          ]
        },
        {
          "output_type": "stream",
          "name": "stderr",
          "text": [
            " 34%|███▎      | 121024/360000 [00:32<00:39, 6082.89it/s]"
          ]
        },
        {
          "output_type": "stream",
          "name": "stdout",
          "text": [
            " Train acc: 0.7266333333333334\n"
          ]
        },
        {
          "output_type": "stream",
          "name": "stderr",
          "text": [
            " 50%|█████     | 180512/360000 [00:43<00:31, 5775.00it/s]"
          ]
        },
        {
          "output_type": "stream",
          "name": "stdout",
          "text": [
            " Train acc: 0.8007666666666666\n"
          ]
        },
        {
          "output_type": "stream",
          "name": "stderr",
          "text": [
            " 67%|██████▋   | 240512/360000 [00:53<00:19, 6147.06it/s]"
          ]
        },
        {
          "output_type": "stream",
          "name": "stdout",
          "text": [
            " Train acc: 0.82505\n"
          ]
        },
        {
          "output_type": "stream",
          "name": "stderr",
          "text": [
            " 84%|████████▎ | 301024/360000 [01:04<00:10, 5505.14it/s]"
          ]
        },
        {
          "output_type": "stream",
          "name": "stdout",
          "text": [
            " Train acc: 0.8380166666666666\n"
          ]
        },
        {
          "output_type": "stream",
          "name": "stderr",
          "text": [
            "100%|██████████| 360000/360000 [01:13<00:00, 6346.20it/s]"
          ]
        },
        {
          "output_type": "stream",
          "name": "stdout",
          "text": [
            " Train acc: 0.8460333333333333\n"
          ]
        },
        {
          "output_type": "stream",
          "name": "stderr",
          "text": [
            "100%|██████████| 360000/360000 [01:15<00:00, 4747.82it/s]\n"
          ]
        },
        {
          "output_type": "stream",
          "name": "stdout",
          "text": [
            " Val acc: 0.8502\n",
            "1\n"
          ]
        },
        {
          "output_type": "stream",
          "name": "stderr",
          "text": [
            " 17%|█▋        | 60512/360000 [00:09<00:47, 6329.48it/s]"
          ]
        },
        {
          "output_type": "stream",
          "name": "stdout",
          "text": [
            " Train acc: 0.3095\n"
          ]
        },
        {
          "output_type": "stream",
          "name": "stderr",
          "text": [
            " 33%|███▎      | 120512/360000 [00:20<00:39, 6085.75it/s]"
          ]
        },
        {
          "output_type": "stream",
          "name": "stdout",
          "text": [
            " Train acc: 0.57945\n"
          ]
        },
        {
          "output_type": "stream",
          "name": "stderr",
          "text": [
            " 50%|█████     | 181024/360000 [00:31<00:31, 5763.59it/s]"
          ]
        },
        {
          "output_type": "stream",
          "name": "stdout",
          "text": [
            " Train acc: 0.78385\n"
          ]
        },
        {
          "output_type": "stream",
          "name": "stderr",
          "text": [
            " 67%|██████▋   | 241024/360000 [00:42<00:21, 5466.35it/s]"
          ]
        },
        {
          "output_type": "stream",
          "name": "stdout",
          "text": [
            " Train acc: 0.8113\n"
          ]
        },
        {
          "output_type": "stream",
          "name": "stderr",
          "text": [
            " 84%|████████▎ | 301024/360000 [00:53<00:09, 6027.03it/s]"
          ]
        },
        {
          "output_type": "stream",
          "name": "stdout",
          "text": [
            " Train acc: 0.8214666666666667\n"
          ]
        },
        {
          "output_type": "stream",
          "name": "stderr",
          "text": [
            "100%|██████████| 360000/360000 [01:03<00:00, 4028.12it/s]"
          ]
        },
        {
          "output_type": "stream",
          "name": "stdout",
          "text": [
            " Train acc: 0.82755\n"
          ]
        },
        {
          "output_type": "stream",
          "name": "stderr",
          "text": [
            "100%|██████████| 360000/360000 [01:05<00:00, 5509.71it/s]\n"
          ]
        },
        {
          "output_type": "stream",
          "name": "stdout",
          "text": [
            " Val acc: 0.8345\n",
            "2\n"
          ]
        },
        {
          "output_type": "stream",
          "name": "stderr",
          "text": [
            " 17%|█▋        | 60512/360000 [00:10<01:26, 3479.48it/s]"
          ]
        },
        {
          "output_type": "stream",
          "name": "stdout",
          "text": [
            " Train acc: 0.3729166666666667\n"
          ]
        },
        {
          "output_type": "stream",
          "name": "stderr",
          "text": [
            " 33%|███▎      | 120512/360000 [00:20<00:39, 6088.90it/s]"
          ]
        },
        {
          "output_type": "stream",
          "name": "stdout",
          "text": [
            " Train acc: 0.70275\n"
          ]
        },
        {
          "output_type": "stream",
          "name": "stderr",
          "text": [
            " 50%|█████     | 181024/360000 [00:31<00:30, 5961.82it/s]"
          ]
        },
        {
          "output_type": "stream",
          "name": "stdout",
          "text": [
            " Train acc: 0.7997666666666666\n"
          ]
        },
        {
          "output_type": "stream",
          "name": "stderr",
          "text": [
            " 67%|██████▋   | 241024/360000 [00:41<00:19, 6197.40it/s]"
          ]
        },
        {
          "output_type": "stream",
          "name": "stdout",
          "text": [
            " Train acc: 0.82935\n"
          ]
        },
        {
          "output_type": "stream",
          "name": "stderr",
          "text": [
            " 84%|████████▎ | 301024/360000 [00:51<00:09, 6150.16it/s]"
          ]
        },
        {
          "output_type": "stream",
          "name": "stdout",
          "text": [
            " Train acc: 0.8438333333333333\n"
          ]
        },
        {
          "output_type": "stream",
          "name": "stderr",
          "text": [
            "100%|██████████| 360000/360000 [01:02<00:00, 5251.91it/s]"
          ]
        },
        {
          "output_type": "stream",
          "name": "stdout",
          "text": [
            " Train acc: 0.8538833333333333\n"
          ]
        },
        {
          "output_type": "stream",
          "name": "stderr",
          "text": [
            "100%|██████████| 360000/360000 [01:03<00:00, 5658.89it/s]\n"
          ]
        },
        {
          "output_type": "stream",
          "name": "stdout",
          "text": [
            " Val acc: 0.8586\n",
            "3\n"
          ]
        },
        {
          "output_type": "stream",
          "name": "stderr",
          "text": [
            " 17%|█▋        | 60512/360000 [00:10<01:17, 3870.47it/s]"
          ]
        },
        {
          "output_type": "stream",
          "name": "stdout",
          "text": [
            " Train acc: 0.41086666666666666\n"
          ]
        },
        {
          "output_type": "stream",
          "name": "stderr",
          "text": [
            " 33%|███▎      | 120512/360000 [00:20<00:39, 5987.37it/s]"
          ]
        },
        {
          "output_type": "stream",
          "name": "stdout",
          "text": [
            " Train acc: 0.6599\n"
          ]
        },
        {
          "output_type": "stream",
          "name": "stderr",
          "text": [
            " 50%|█████     | 181024/360000 [00:30<00:29, 6041.14it/s]"
          ]
        },
        {
          "output_type": "stream",
          "name": "stdout",
          "text": [
            " Train acc: 0.7826333333333333\n"
          ]
        },
        {
          "output_type": "stream",
          "name": "stderr",
          "text": [
            " 67%|██████▋   | 240512/360000 [00:41<00:19, 6162.43it/s]"
          ]
        },
        {
          "output_type": "stream",
          "name": "stdout",
          "text": [
            " Train acc: 0.8131833333333334\n"
          ]
        },
        {
          "output_type": "stream",
          "name": "stderr",
          "text": [
            " 83%|████████▎ | 300512/360000 [00:51<00:10, 5799.93it/s]"
          ]
        },
        {
          "output_type": "stream",
          "name": "stdout",
          "text": [
            " Train acc: 0.82785\n"
          ]
        },
        {
          "output_type": "stream",
          "name": "stderr",
          "text": [
            "100%|██████████| 360000/360000 [01:02<00:00, 4897.47it/s]"
          ]
        },
        {
          "output_type": "stream",
          "name": "stdout",
          "text": [
            " Train acc: 0.8379333333333333\n"
          ]
        },
        {
          "output_type": "stream",
          "name": "stderr",
          "text": [
            "100%|██████████| 360000/360000 [01:03<00:00, 5658.75it/s]\n"
          ]
        },
        {
          "output_type": "stream",
          "name": "stdout",
          "text": [
            " Val acc: 0.8476\n",
            "4\n"
          ]
        },
        {
          "output_type": "stream",
          "name": "stderr",
          "text": [
            " 17%|█▋        | 60512/360000 [00:10<01:11, 4188.13it/s]"
          ]
        },
        {
          "output_type": "stream",
          "name": "stdout",
          "text": [
            " Train acc: 0.36178333333333335\n"
          ]
        },
        {
          "output_type": "stream",
          "name": "stderr",
          "text": [
            " 34%|███▎      | 121024/360000 [00:20<00:38, 6238.84it/s]"
          ]
        },
        {
          "output_type": "stream",
          "name": "stdout",
          "text": [
            " Train acc: 0.61295\n"
          ]
        },
        {
          "output_type": "stream",
          "name": "stderr",
          "text": [
            " 50%|█████     | 180512/360000 [00:30<00:29, 6016.38it/s]"
          ]
        },
        {
          "output_type": "stream",
          "name": "stdout",
          "text": [
            " Train acc: 0.7044833333333334\n"
          ]
        },
        {
          "output_type": "stream",
          "name": "stderr",
          "text": [
            " 67%|██████▋   | 241024/360000 [00:41<00:20, 5917.82it/s]"
          ]
        },
        {
          "output_type": "stream",
          "name": "stdout",
          "text": [
            " Train acc: 0.7729\n"
          ]
        },
        {
          "output_type": "stream",
          "name": "stderr",
          "text": [
            " 83%|████████▎ | 300512/360000 [00:51<00:10, 5901.67it/s]"
          ]
        },
        {
          "output_type": "stream",
          "name": "stdout",
          "text": [
            " Train acc: 0.8068\n"
          ]
        },
        {
          "output_type": "stream",
          "name": "stderr",
          "text": [
            "100%|██████████| 360000/360000 [01:02<00:00, 5784.02it/s]"
          ]
        },
        {
          "output_type": "stream",
          "name": "stdout",
          "text": [
            " Train acc: 0.8167166666666666\n"
          ]
        },
        {
          "output_type": "stream",
          "name": "stderr",
          "text": [
            "100%|██████████| 360000/360000 [01:03<00:00, 5644.88it/s]\n"
          ]
        },
        {
          "output_type": "stream",
          "name": "stdout",
          "text": [
            " Val acc: 0.8237\n",
            "5\n"
          ]
        },
        {
          "output_type": "stream",
          "name": "stderr",
          "text": [
            " 17%|█▋        | 60512/360000 [00:10<00:55, 5407.15it/s]"
          ]
        },
        {
          "output_type": "stream",
          "name": "stdout",
          "text": [
            " Train acc: 0.3715\n"
          ]
        },
        {
          "output_type": "stream",
          "name": "stderr",
          "text": [
            " 33%|███▎      | 120512/360000 [00:20<00:50, 4702.72it/s]"
          ]
        },
        {
          "output_type": "stream",
          "name": "stdout",
          "text": [
            " Train acc: 0.6423833333333333\n"
          ]
        },
        {
          "output_type": "stream",
          "name": "stderr",
          "text": [
            " 50%|█████     | 180512/360000 [00:30<00:28, 6190.26it/s]"
          ]
        },
        {
          "output_type": "stream",
          "name": "stdout",
          "text": [
            " Train acc: 0.7346\n"
          ]
        },
        {
          "output_type": "stream",
          "name": "stderr",
          "text": [
            " 67%|██████▋   | 240512/360000 [00:41<00:19, 5985.60it/s]"
          ]
        },
        {
          "output_type": "stream",
          "name": "stdout",
          "text": [
            " Train acc: 0.77675\n"
          ]
        },
        {
          "output_type": "stream",
          "name": "stderr",
          "text": [
            " 84%|████████▎ | 301024/360000 [00:52<00:09, 6117.09it/s]"
          ]
        },
        {
          "output_type": "stream",
          "name": "stdout",
          "text": [
            " Train acc: 0.8021\n"
          ]
        },
        {
          "output_type": "stream",
          "name": "stderr",
          "text": [
            "100%|██████████| 360000/360000 [01:02<00:00, 6246.65it/s]"
          ]
        },
        {
          "output_type": "stream",
          "name": "stdout",
          "text": [
            " Train acc: 0.81795\n"
          ]
        },
        {
          "output_type": "stream",
          "name": "stderr",
          "text": [
            "100%|██████████| 360000/360000 [01:04<00:00, 5612.38it/s]\n"
          ]
        },
        {
          "output_type": "stream",
          "name": "stdout",
          "text": [
            " Val acc: 0.8254\n",
            "6\n"
          ]
        },
        {
          "output_type": "stream",
          "name": "stderr",
          "text": [
            " 17%|█▋        | 61024/360000 [00:10<00:48, 6117.26it/s]"
          ]
        },
        {
          "output_type": "stream",
          "name": "stdout",
          "text": [
            " Train acc: 0.4507333333333333\n"
          ]
        },
        {
          "output_type": "stream",
          "name": "stderr",
          "text": [
            " 33%|███▎      | 120512/360000 [00:20<00:58, 4106.47it/s]"
          ]
        },
        {
          "output_type": "stream",
          "name": "stdout",
          "text": [
            " Train acc: 0.6331833333333333\n"
          ]
        },
        {
          "output_type": "stream",
          "name": "stderr",
          "text": [
            " 50%|█████     | 181024/360000 [00:31<00:29, 5981.35it/s]"
          ]
        },
        {
          "output_type": "stream",
          "name": "stdout",
          "text": [
            " Train acc: 0.7614166666666666\n"
          ]
        },
        {
          "output_type": "stream",
          "name": "stderr",
          "text": [
            " 67%|██████▋   | 240512/360000 [00:41<00:19, 6018.66it/s]"
          ]
        },
        {
          "output_type": "stream",
          "name": "stdout",
          "text": [
            " Train acc: 0.8259166666666666\n"
          ]
        },
        {
          "output_type": "stream",
          "name": "stderr",
          "text": [
            " 83%|████████▎ | 300512/360000 [00:52<00:09, 6198.58it/s]"
          ]
        },
        {
          "output_type": "stream",
          "name": "stdout",
          "text": [
            " Train acc: 0.8487666666666667\n"
          ]
        },
        {
          "output_type": "stream",
          "name": "stderr",
          "text": [
            "100%|██████████| 360000/360000 [01:02<00:00, 6131.65it/s]"
          ]
        },
        {
          "output_type": "stream",
          "name": "stdout",
          "text": [
            " Train acc: 0.8592\n"
          ]
        },
        {
          "output_type": "stream",
          "name": "stderr",
          "text": [
            "100%|██████████| 360000/360000 [01:04<00:00, 5583.92it/s]\n"
          ]
        },
        {
          "output_type": "stream",
          "name": "stdout",
          "text": [
            " Val acc: 0.8631\n",
            "7\n"
          ]
        },
        {
          "output_type": "stream",
          "name": "stderr",
          "text": [
            " 17%|█▋        | 60512/360000 [00:10<00:51, 5785.61it/s]"
          ]
        },
        {
          "output_type": "stream",
          "name": "stdout",
          "text": [
            " Train acc: 0.3935666666666667\n"
          ]
        },
        {
          "output_type": "stream",
          "name": "stderr",
          "text": [
            " 34%|███▎      | 121024/360000 [00:21<00:44, 5349.91it/s]"
          ]
        },
        {
          "output_type": "stream",
          "name": "stdout",
          "text": [
            " Train acc: 0.6191666666666666\n"
          ]
        },
        {
          "output_type": "stream",
          "name": "stderr",
          "text": [
            " 50%|█████     | 180512/360000 [00:31<00:32, 5600.81it/s]"
          ]
        },
        {
          "output_type": "stream",
          "name": "stdout",
          "text": [
            " Train acc: 0.7632333333333333\n"
          ]
        },
        {
          "output_type": "stream",
          "name": "stderr",
          "text": [
            " 67%|██████▋   | 240512/360000 [00:41<00:20, 5718.87it/s]"
          ]
        },
        {
          "output_type": "stream",
          "name": "stdout",
          "text": [
            " Train acc: 0.8075\n"
          ]
        },
        {
          "output_type": "stream",
          "name": "stderr",
          "text": [
            " 83%|████████▎ | 300512/360000 [00:52<00:10, 5658.30it/s]"
          ]
        },
        {
          "output_type": "stream",
          "name": "stdout",
          "text": [
            " Train acc: 0.8215666666666667\n"
          ]
        },
        {
          "output_type": "stream",
          "name": "stderr",
          "text": [
            "100%|██████████| 360000/360000 [01:03<00:00, 5952.82it/s]"
          ]
        },
        {
          "output_type": "stream",
          "name": "stdout",
          "text": [
            " Train acc: 0.8296\n"
          ]
        },
        {
          "output_type": "stream",
          "name": "stderr",
          "text": [
            "100%|██████████| 360000/360000 [01:05<00:00, 5536.93it/s]\n"
          ]
        },
        {
          "output_type": "stream",
          "name": "stdout",
          "text": [
            " Val acc: 0.8378\n",
            "8\n"
          ]
        },
        {
          "output_type": "stream",
          "name": "stderr",
          "text": [
            " 17%|█▋        | 60512/360000 [00:11<00:52, 5714.91it/s]"
          ]
        },
        {
          "output_type": "stream",
          "name": "stdout",
          "text": [
            " Train acc: 0.28\n"
          ]
        },
        {
          "output_type": "stream",
          "name": "stderr",
          "text": [
            " 33%|███▎      | 120512/360000 [00:22<00:40, 5931.17it/s]"
          ]
        },
        {
          "output_type": "stream",
          "name": "stdout",
          "text": [
            " Train acc: 0.6082166666666666\n"
          ]
        },
        {
          "output_type": "stream",
          "name": "stderr",
          "text": [
            " 50%|█████     | 180512/360000 [00:32<00:32, 5542.20it/s]"
          ]
        },
        {
          "output_type": "stream",
          "name": "stdout",
          "text": [
            " Train acc: 0.7432333333333333\n"
          ]
        },
        {
          "output_type": "stream",
          "name": "stderr",
          "text": [
            " 67%|██████▋   | 241024/360000 [00:42<00:20, 5919.75it/s]"
          ]
        },
        {
          "output_type": "stream",
          "name": "stdout",
          "text": [
            " Train acc: 0.7730166666666667\n"
          ]
        },
        {
          "output_type": "stream",
          "name": "stderr",
          "text": [
            " 84%|████████▎ | 301024/360000 [00:52<00:09, 6175.79it/s]"
          ]
        },
        {
          "output_type": "stream",
          "name": "stdout",
          "text": [
            " Train acc: 0.7909\n"
          ]
        },
        {
          "output_type": "stream",
          "name": "stderr",
          "text": [
            "100%|██████████| 360000/360000 [01:03<00:00, 6447.55it/s]"
          ]
        },
        {
          "output_type": "stream",
          "name": "stdout",
          "text": [
            " Train acc: 0.8036\n"
          ]
        },
        {
          "output_type": "stream",
          "name": "stderr",
          "text": [
            "100%|██████████| 360000/360000 [01:04<00:00, 5559.45it/s]\n"
          ]
        },
        {
          "output_type": "stream",
          "name": "stdout",
          "text": [
            " Val acc: 0.8102\n",
            "9\n"
          ]
        },
        {
          "output_type": "stream",
          "name": "stderr",
          "text": [
            " 17%|█▋        | 61024/360000 [00:10<00:49, 6065.53it/s]"
          ]
        },
        {
          "output_type": "stream",
          "name": "stdout",
          "text": [
            " Train acc: 0.43848333333333334\n"
          ]
        },
        {
          "output_type": "stream",
          "name": "stderr",
          "text": [
            " 34%|███▎      | 121024/360000 [00:21<00:39, 6119.24it/s]"
          ]
        },
        {
          "output_type": "stream",
          "name": "stdout",
          "text": [
            " Train acc: 0.7124666666666667\n"
          ]
        },
        {
          "output_type": "stream",
          "name": "stderr",
          "text": [
            " 50%|█████     | 181024/360000 [00:32<00:30, 5940.26it/s]"
          ]
        },
        {
          "output_type": "stream",
          "name": "stdout",
          "text": [
            " Train acc: 0.7797166666666666\n"
          ]
        },
        {
          "output_type": "stream",
          "name": "stderr",
          "text": [
            " 67%|██████▋   | 240512/360000 [00:42<00:28, 4265.24it/s]"
          ]
        },
        {
          "output_type": "stream",
          "name": "stdout",
          "text": [
            " Train acc: 0.81595\n"
          ]
        },
        {
          "output_type": "stream",
          "name": "stderr",
          "text": [
            " 84%|████████▎ | 301024/360000 [00:52<00:09, 5941.34it/s]"
          ]
        },
        {
          "output_type": "stream",
          "name": "stdout",
          "text": [
            " Train acc: 0.8371333333333333\n"
          ]
        },
        {
          "output_type": "stream",
          "name": "stderr",
          "text": [
            "100%|██████████| 360000/360000 [01:03<00:00, 6144.73it/s]"
          ]
        },
        {
          "output_type": "stream",
          "name": "stdout",
          "text": [
            " Train acc: 0.8506166666666667\n"
          ]
        },
        {
          "output_type": "stream",
          "name": "stderr",
          "text": [
            "100%|██████████| 360000/360000 [01:04<00:00, 5569.72it/s]\n"
          ]
        },
        {
          "output_type": "stream",
          "name": "stdout",
          "text": [
            " Val acc: 0.8572\n",
            "10\n"
          ]
        },
        {
          "output_type": "stream",
          "name": "stderr",
          "text": [
            " 17%|█▋        | 60000/360000 [00:10<00:48, 6143.31it/s]"
          ]
        },
        {
          "output_type": "stream",
          "name": "stdout",
          "text": [
            " Train acc: 0.31543333333333334\n"
          ]
        },
        {
          "output_type": "stream",
          "name": "stderr",
          "text": [
            " 33%|███▎      | 120512/360000 [00:21<00:39, 6104.90it/s]"
          ]
        },
        {
          "output_type": "stream",
          "name": "stdout",
          "text": [
            " Train acc: 0.6263833333333333\n"
          ]
        },
        {
          "output_type": "stream",
          "name": "stderr",
          "text": [
            " 50%|█████     | 181024/360000 [00:31<00:28, 6223.64it/s]"
          ]
        },
        {
          "output_type": "stream",
          "name": "stdout",
          "text": [
            " Train acc: 0.7348166666666667\n"
          ]
        },
        {
          "output_type": "stream",
          "name": "stderr",
          "text": [
            " 67%|██████▋   | 240512/360000 [00:41<00:30, 3919.20it/s]"
          ]
        },
        {
          "output_type": "stream",
          "name": "stdout",
          "text": [
            " Train acc: 0.77175\n"
          ]
        },
        {
          "output_type": "stream",
          "name": "stderr",
          "text": [
            " 83%|████████▎ | 300512/360000 [00:51<00:10, 5706.32it/s]"
          ]
        },
        {
          "output_type": "stream",
          "name": "stdout",
          "text": [
            " Train acc: 0.7924666666666667\n"
          ]
        },
        {
          "output_type": "stream",
          "name": "stderr",
          "text": [
            "100%|██████████| 360000/360000 [01:02<00:00, 6367.00it/s]"
          ]
        },
        {
          "output_type": "stream",
          "name": "stdout",
          "text": [
            " Train acc: 0.80525\n"
          ]
        },
        {
          "output_type": "stream",
          "name": "stderr",
          "text": [
            "100%|██████████| 360000/360000 [01:04<00:00, 5606.77it/s]\n"
          ]
        },
        {
          "output_type": "stream",
          "name": "stdout",
          "text": [
            " Val acc: 0.8222\n",
            "11\n"
          ]
        },
        {
          "output_type": "stream",
          "name": "stderr",
          "text": [
            " 17%|█▋        | 60512/360000 [00:10<00:50, 5977.96it/s]"
          ]
        },
        {
          "output_type": "stream",
          "name": "stdout",
          "text": [
            " Train acc: 0.30743333333333334\n"
          ]
        },
        {
          "output_type": "stream",
          "name": "stderr",
          "text": [
            " 33%|███▎      | 120512/360000 [00:21<00:40, 5932.13it/s]"
          ]
        },
        {
          "output_type": "stream",
          "name": "stdout",
          "text": [
            " Train acc: 0.5158333333333334\n"
          ]
        },
        {
          "output_type": "stream",
          "name": "stderr",
          "text": [
            " 50%|█████     | 180512/360000 [00:32<00:29, 5986.95it/s]"
          ]
        },
        {
          "output_type": "stream",
          "name": "stdout",
          "text": [
            " Train acc: 0.6962166666666667\n"
          ]
        },
        {
          "output_type": "stream",
          "name": "stderr",
          "text": [
            " 67%|██████▋   | 241024/360000 [00:43<00:20, 5861.92it/s]"
          ]
        },
        {
          "output_type": "stream",
          "name": "stdout",
          "text": [
            " Train acc: 0.8031833333333334\n"
          ]
        },
        {
          "output_type": "stream",
          "name": "stderr",
          "text": [
            " 83%|████████▎ | 300512/360000 [00:53<00:15, 3751.67it/s]"
          ]
        },
        {
          "output_type": "stream",
          "name": "stdout",
          "text": [
            " Train acc: 0.8319333333333333\n"
          ]
        },
        {
          "output_type": "stream",
          "name": "stderr",
          "text": [
            "100%|██████████| 360000/360000 [01:03<00:00, 6072.00it/s]"
          ]
        },
        {
          "output_type": "stream",
          "name": "stdout",
          "text": [
            " Train acc: 0.8423\n"
          ]
        },
        {
          "output_type": "stream",
          "name": "stderr",
          "text": [
            "100%|██████████| 360000/360000 [01:05<00:00, 5499.31it/s]\n"
          ]
        },
        {
          "output_type": "stream",
          "name": "stdout",
          "text": [
            " Val acc: 0.8539\n",
            "12\n"
          ]
        },
        {
          "output_type": "stream",
          "name": "stderr",
          "text": [
            " 17%|█▋        | 61024/360000 [00:10<00:51, 5801.27it/s]"
          ]
        },
        {
          "output_type": "stream",
          "name": "stdout",
          "text": [
            " Train acc: 0.3794\n"
          ]
        },
        {
          "output_type": "stream",
          "name": "stderr",
          "text": [
            " 34%|███▎      | 121024/360000 [00:21<00:39, 6046.72it/s]"
          ]
        },
        {
          "output_type": "stream",
          "name": "stdout",
          "text": [
            " Train acc: 0.6259\n"
          ]
        },
        {
          "output_type": "stream",
          "name": "stderr",
          "text": [
            " 50%|█████     | 180512/360000 [00:31<00:29, 6036.30it/s]"
          ]
        },
        {
          "output_type": "stream",
          "name": "stdout",
          "text": [
            " Train acc: 0.7673166666666666\n"
          ]
        },
        {
          "output_type": "stream",
          "name": "stderr",
          "text": [
            " 67%|██████▋   | 241024/360000 [00:42<00:19, 5988.40it/s]"
          ]
        },
        {
          "output_type": "stream",
          "name": "stdout",
          "text": [
            " Train acc: 0.8192166666666667\n"
          ]
        },
        {
          "output_type": "stream",
          "name": "stderr",
          "text": [
            " 84%|████████▎ | 301024/360000 [00:53<00:11, 5286.66it/s]"
          ]
        },
        {
          "output_type": "stream",
          "name": "stdout",
          "text": [
            " Train acc: 0.8387166666666667\n"
          ]
        },
        {
          "output_type": "stream",
          "name": "stderr",
          "text": [
            "100%|██████████| 360000/360000 [01:02<00:00, 5043.22it/s]"
          ]
        },
        {
          "output_type": "stream",
          "name": "stdout",
          "text": [
            " Train acc: 0.84895\n"
          ]
        },
        {
          "output_type": "stream",
          "name": "stderr",
          "text": [
            "100%|██████████| 360000/360000 [01:05<00:00, 5531.81it/s]\n"
          ]
        },
        {
          "output_type": "stream",
          "name": "stdout",
          "text": [
            " Val acc: 0.8568\n",
            "13\n"
          ]
        },
        {
          "output_type": "stream",
          "name": "stderr",
          "text": [
            " 17%|█▋        | 61024/360000 [00:09<00:48, 6156.53it/s]"
          ]
        },
        {
          "output_type": "stream",
          "name": "stdout",
          "text": [
            " Train acc: 0.44958333333333333\n"
          ]
        },
        {
          "output_type": "stream",
          "name": "stderr",
          "text": [
            " 34%|███▎      | 121024/360000 [00:20<00:41, 5691.64it/s]"
          ]
        },
        {
          "output_type": "stream",
          "name": "stdout",
          "text": [
            " Train acc: 0.6727166666666666\n"
          ]
        },
        {
          "output_type": "stream",
          "name": "stderr",
          "text": [
            " 50%|█████     | 181024/360000 [00:31<00:29, 6033.82it/s]"
          ]
        },
        {
          "output_type": "stream",
          "name": "stdout",
          "text": [
            " Train acc: 0.7315333333333334\n"
          ]
        },
        {
          "output_type": "stream",
          "name": "stderr",
          "text": [
            " 67%|██████▋   | 240512/360000 [00:42<00:20, 5890.85it/s]"
          ]
        },
        {
          "output_type": "stream",
          "name": "stdout",
          "text": [
            " Train acc: 0.7617833333333334\n"
          ]
        },
        {
          "output_type": "stream",
          "name": "stderr",
          "text": [
            " 84%|████████▎ | 301024/360000 [00:53<00:09, 5917.80it/s]"
          ]
        },
        {
          "output_type": "stream",
          "name": "stdout",
          "text": [
            " Train acc: 0.7819166666666667\n"
          ]
        },
        {
          "output_type": "stream",
          "name": "stderr",
          "text": [
            "100%|██████████| 360000/360000 [01:03<00:00, 4309.58it/s]"
          ]
        },
        {
          "output_type": "stream",
          "name": "stdout",
          "text": [
            " Train acc: 0.7985833333333333\n"
          ]
        },
        {
          "output_type": "stream",
          "name": "stderr",
          "text": [
            "100%|██████████| 360000/360000 [01:05<00:00, 5507.91it/s]\n"
          ]
        },
        {
          "output_type": "stream",
          "name": "stdout",
          "text": [
            " Val acc: 0.8099\n",
            "14\n"
          ]
        },
        {
          "output_type": "stream",
          "name": "stderr",
          "text": [
            " 17%|█▋        | 60512/360000 [00:10<01:21, 3674.29it/s]"
          ]
        },
        {
          "output_type": "stream",
          "name": "stdout",
          "text": [
            " Train acc: 0.3300666666666667\n"
          ]
        },
        {
          "output_type": "stream",
          "name": "stderr",
          "text": [
            " 33%|███▎      | 120512/360000 [00:20<00:40, 5873.09it/s]"
          ]
        },
        {
          "output_type": "stream",
          "name": "stdout",
          "text": [
            " Train acc: 0.5610166666666667\n"
          ]
        },
        {
          "output_type": "stream",
          "name": "stderr",
          "text": [
            " 50%|█████     | 180512/360000 [00:31<00:30, 5900.09it/s]"
          ]
        },
        {
          "output_type": "stream",
          "name": "stdout",
          "text": [
            " Train acc: 0.7043\n"
          ]
        },
        {
          "output_type": "stream",
          "name": "stderr",
          "text": [
            " 67%|██████▋   | 241024/360000 [00:42<00:20, 5833.26it/s]"
          ]
        },
        {
          "output_type": "stream",
          "name": "stdout",
          "text": [
            " Train acc: 0.8007666666666666\n"
          ]
        },
        {
          "output_type": "stream",
          "name": "stderr",
          "text": [
            " 84%|████████▎ | 301024/360000 [00:53<00:10, 5688.91it/s]"
          ]
        },
        {
          "output_type": "stream",
          "name": "stdout",
          "text": [
            " Train acc: 0.8187666666666666\n"
          ]
        },
        {
          "output_type": "stream",
          "name": "stderr",
          "text": [
            "100%|██████████| 360000/360000 [01:03<00:00, 6346.77it/s]"
          ]
        },
        {
          "output_type": "stream",
          "name": "stdout",
          "text": [
            " Train acc: 0.8240833333333333\n"
          ]
        },
        {
          "output_type": "stream",
          "name": "stderr",
          "text": [
            "100%|██████████| 360000/360000 [01:05<00:00, 5522.12it/s]\n"
          ]
        },
        {
          "output_type": "stream",
          "name": "stdout",
          "text": [
            " Val acc: 0.8248\n",
            "15\n"
          ]
        },
        {
          "output_type": "stream",
          "name": "stderr",
          "text": [
            " 17%|█▋        | 60512/360000 [00:10<00:52, 5737.64it/s]"
          ]
        },
        {
          "output_type": "stream",
          "name": "stdout",
          "text": [
            " Train acc: 0.4290833333333333\n"
          ]
        },
        {
          "output_type": "stream",
          "name": "stderr",
          "text": [
            " 33%|███▎      | 120512/360000 [00:21<01:00, 3941.99it/s]"
          ]
        },
        {
          "output_type": "stream",
          "name": "stdout",
          "text": [
            " Train acc: 0.63855\n"
          ]
        },
        {
          "output_type": "stream",
          "name": "stderr",
          "text": [
            " 50%|█████     | 180512/360000 [00:31<00:29, 6131.61it/s]"
          ]
        },
        {
          "output_type": "stream",
          "name": "stdout",
          "text": [
            " Train acc: 0.7661\n"
          ]
        },
        {
          "output_type": "stream",
          "name": "stderr",
          "text": [
            " 67%|██████▋   | 241024/360000 [00:42<00:19, 6084.63it/s]"
          ]
        },
        {
          "output_type": "stream",
          "name": "stdout",
          "text": [
            " Train acc: 0.7986166666666666\n"
          ]
        },
        {
          "output_type": "stream",
          "name": "stderr",
          "text": [
            " 83%|████████▎ | 300512/360000 [00:52<00:09, 6017.48it/s]"
          ]
        },
        {
          "output_type": "stream",
          "name": "stdout",
          "text": [
            " Train acc: 0.81825\n"
          ]
        },
        {
          "output_type": "stream",
          "name": "stderr",
          "text": [
            "100%|██████████| 360000/360000 [01:03<00:00, 6123.76it/s]"
          ]
        },
        {
          "output_type": "stream",
          "name": "stdout",
          "text": [
            " Train acc: 0.83175\n"
          ]
        },
        {
          "output_type": "stream",
          "name": "stderr",
          "text": [
            "100%|██████████| 360000/360000 [01:05<00:00, 5521.26it/s]\n"
          ]
        },
        {
          "output_type": "stream",
          "name": "stdout",
          "text": [
            " Val acc: 0.8414\n",
            "16\n"
          ]
        },
        {
          "output_type": "stream",
          "name": "stderr",
          "text": [
            " 17%|█▋        | 60512/360000 [00:10<00:50, 5915.13it/s]"
          ]
        },
        {
          "output_type": "stream",
          "name": "stdout",
          "text": [
            " Train acc: 0.46595\n"
          ]
        },
        {
          "output_type": "stream",
          "name": "stderr",
          "text": [
            " 33%|███▎      | 120512/360000 [00:21<00:42, 5588.00it/s]"
          ]
        },
        {
          "output_type": "stream",
          "name": "stdout",
          "text": [
            " Train acc: 0.62685\n"
          ]
        },
        {
          "output_type": "stream",
          "name": "stderr",
          "text": [
            " 50%|█████     | 180512/360000 [00:31<00:43, 4113.24it/s]"
          ]
        },
        {
          "output_type": "stream",
          "name": "stdout",
          "text": [
            " Train acc: 0.7717333333333334\n"
          ]
        },
        {
          "output_type": "stream",
          "name": "stderr",
          "text": [
            " 67%|██████▋   | 240512/360000 [00:42<00:20, 5917.05it/s]"
          ]
        },
        {
          "output_type": "stream",
          "name": "stdout",
          "text": [
            " Train acc: 0.8330666666666666\n"
          ]
        },
        {
          "output_type": "stream",
          "name": "stderr",
          "text": [
            " 83%|████████▎ | 300512/360000 [00:52<00:09, 5991.42it/s]"
          ]
        },
        {
          "output_type": "stream",
          "name": "stdout",
          "text": [
            " Train acc: 0.85575\n"
          ]
        },
        {
          "output_type": "stream",
          "name": "stderr",
          "text": [
            "100%|██████████| 360000/360000 [01:03<00:00, 6215.54it/s]"
          ]
        },
        {
          "output_type": "stream",
          "name": "stdout",
          "text": [
            " Train acc: 0.86415\n"
          ]
        },
        {
          "output_type": "stream",
          "name": "stderr",
          "text": [
            "100%|██████████| 360000/360000 [01:05<00:00, 5533.34it/s]\n"
          ]
        },
        {
          "output_type": "stream",
          "name": "stdout",
          "text": [
            " Val acc: 0.8708\n",
            "17\n"
          ]
        },
        {
          "output_type": "stream",
          "name": "stderr",
          "text": [
            " 17%|█▋        | 60512/360000 [00:10<00:52, 5696.96it/s]"
          ]
        },
        {
          "output_type": "stream",
          "name": "stdout",
          "text": [
            " Train acc: 0.3774\n"
          ]
        },
        {
          "output_type": "stream",
          "name": "stderr",
          "text": [
            " 33%|███▎      | 120512/360000 [00:21<00:41, 5818.85it/s]"
          ]
        },
        {
          "output_type": "stream",
          "name": "stdout",
          "text": [
            " Train acc: 0.6225333333333334\n"
          ]
        },
        {
          "output_type": "stream",
          "name": "stderr",
          "text": [
            " 50%|█████     | 180512/360000 [00:32<00:32, 5459.88it/s]"
          ]
        },
        {
          "output_type": "stream",
          "name": "stdout",
          "text": [
            " Train acc: 0.7529833333333333\n"
          ]
        },
        {
          "output_type": "stream",
          "name": "stderr",
          "text": [
            " 67%|██████▋   | 240512/360000 [00:42<00:26, 4447.66it/s]"
          ]
        },
        {
          "output_type": "stream",
          "name": "stdout",
          "text": [
            " Train acc: 0.7966166666666666\n"
          ]
        },
        {
          "output_type": "stream",
          "name": "stderr",
          "text": [
            " 84%|████████▎ | 301024/360000 [00:53<00:10, 5732.37it/s]"
          ]
        },
        {
          "output_type": "stream",
          "name": "stdout",
          "text": [
            " Train acc: 0.8212\n"
          ]
        },
        {
          "output_type": "stream",
          "name": "stderr",
          "text": [
            "100%|██████████| 360000/360000 [01:03<00:00, 6239.27it/s]"
          ]
        },
        {
          "output_type": "stream",
          "name": "stdout",
          "text": [
            " Train acc: 0.8389833333333333\n"
          ]
        },
        {
          "output_type": "stream",
          "name": "stderr",
          "text": [
            "100%|██████████| 360000/360000 [01:05<00:00, 5510.82it/s]\n"
          ]
        },
        {
          "output_type": "stream",
          "name": "stdout",
          "text": [
            " Val acc: 0.8545\n",
            "18\n"
          ]
        },
        {
          "output_type": "stream",
          "name": "stderr",
          "text": [
            " 17%|█▋        | 61024/360000 [00:10<00:50, 5896.58it/s]"
          ]
        },
        {
          "output_type": "stream",
          "name": "stdout",
          "text": [
            " Train acc: 0.4273666666666667\n"
          ]
        },
        {
          "output_type": "stream",
          "name": "stderr",
          "text": [
            " 34%|███▎      | 121024/360000 [00:21<00:41, 5799.68it/s]"
          ]
        },
        {
          "output_type": "stream",
          "name": "stdout",
          "text": [
            " Train acc: 0.67145\n"
          ]
        },
        {
          "output_type": "stream",
          "name": "stderr",
          "text": [
            " 50%|█████     | 181024/360000 [00:32<00:29, 6014.50it/s]"
          ]
        },
        {
          "output_type": "stream",
          "name": "stdout",
          "text": [
            " Train acc: 0.74865\n"
          ]
        },
        {
          "output_type": "stream",
          "name": "stderr",
          "text": [
            " 67%|██████▋   | 240512/360000 [00:43<00:28, 4219.13it/s]"
          ]
        },
        {
          "output_type": "stream",
          "name": "stdout",
          "text": [
            " Train acc: 0.7803666666666667\n"
          ]
        },
        {
          "output_type": "stream",
          "name": "stderr",
          "text": [
            " 83%|████████▎ | 300512/360000 [00:53<00:11, 5016.98it/s]"
          ]
        },
        {
          "output_type": "stream",
          "name": "stdout",
          "text": [
            " Train acc: 0.7956333333333333\n"
          ]
        },
        {
          "output_type": "stream",
          "name": "stderr",
          "text": [
            "100%|██████████| 360000/360000 [01:03<00:00, 6318.45it/s]"
          ]
        },
        {
          "output_type": "stream",
          "name": "stdout",
          "text": [
            " Train acc: 0.80995\n"
          ]
        },
        {
          "output_type": "stream",
          "name": "stderr",
          "text": [
            "100%|██████████| 360000/360000 [01:05<00:00, 5520.95it/s]\n"
          ]
        },
        {
          "output_type": "stream",
          "name": "stdout",
          "text": [
            " Val acc: 0.8232\n",
            "19\n"
          ]
        },
        {
          "output_type": "stream",
          "name": "stderr",
          "text": [
            " 17%|█▋        | 60512/360000 [00:10<00:49, 6073.99it/s]"
          ]
        },
        {
          "output_type": "stream",
          "name": "stdout",
          "text": [
            " Train acc: 0.32935\n"
          ]
        },
        {
          "output_type": "stream",
          "name": "stderr",
          "text": [
            " 34%|███▎      | 121024/360000 [00:21<00:40, 5941.54it/s]"
          ]
        },
        {
          "output_type": "stream",
          "name": "stdout",
          "text": [
            " Train acc: 0.5880666666666666\n"
          ]
        },
        {
          "output_type": "stream",
          "name": "stderr",
          "text": [
            " 50%|█████     | 181024/360000 [00:32<00:29, 6016.92it/s]"
          ]
        },
        {
          "output_type": "stream",
          "name": "stdout",
          "text": [
            " Train acc: 0.6584\n"
          ]
        },
        {
          "output_type": "stream",
          "name": "stderr",
          "text": [
            " 67%|██████▋   | 241024/360000 [00:42<00:20, 5835.28it/s]"
          ]
        },
        {
          "output_type": "stream",
          "name": "stdout",
          "text": [
            " Train acc: 0.6863\n"
          ]
        },
        {
          "output_type": "stream",
          "name": "stderr",
          "text": [
            " 83%|████████▎ | 300512/360000 [00:52<00:13, 4530.34it/s]"
          ]
        },
        {
          "output_type": "stream",
          "name": "stdout",
          "text": [
            " Train acc: 0.7065666666666667\n"
          ]
        },
        {
          "output_type": "stream",
          "name": "stderr",
          "text": [
            "100%|██████████| 360000/360000 [01:02<00:00, 6608.38it/s]"
          ]
        },
        {
          "output_type": "stream",
          "name": "stdout",
          "text": [
            " Train acc: 0.72435\n"
          ]
        },
        {
          "output_type": "stream",
          "name": "stderr",
          "text": [
            "100%|██████████| 360000/360000 [01:03<00:00, 5647.54it/s]\n"
          ]
        },
        {
          "output_type": "stream",
          "name": "stdout",
          "text": [
            " Val acc: 0.7375\n",
            "20\n"
          ]
        },
        {
          "output_type": "stream",
          "name": "stderr",
          "text": [
            " 17%|█▋        | 61024/360000 [00:10<00:48, 6184.97it/s]"
          ]
        },
        {
          "output_type": "stream",
          "name": "stdout",
          "text": [
            " Train acc: 0.32721666666666666\n"
          ]
        },
        {
          "output_type": "stream",
          "name": "stderr",
          "text": [
            " 34%|███▎      | 121024/360000 [00:20<00:38, 6143.92it/s]"
          ]
        },
        {
          "output_type": "stream",
          "name": "stdout",
          "text": [
            " Train acc: 0.61455\n"
          ]
        },
        {
          "output_type": "stream",
          "name": "stderr",
          "text": [
            " 50%|█████     | 181024/360000 [00:30<00:28, 6391.67it/s]"
          ]
        },
        {
          "output_type": "stream",
          "name": "stdout",
          "text": [
            " Train acc: 0.7462833333333333\n"
          ]
        },
        {
          "output_type": "stream",
          "name": "stderr",
          "text": [
            " 67%|██████▋   | 240512/360000 [00:39<00:27, 4386.14it/s]"
          ]
        },
        {
          "output_type": "stream",
          "name": "stdout",
          "text": [
            " Train acc: 0.8029333333333334\n"
          ]
        },
        {
          "output_type": "stream",
          "name": "stderr",
          "text": [
            " 83%|████████▎ | 300512/360000 [00:49<00:09, 6308.85it/s]"
          ]
        },
        {
          "output_type": "stream",
          "name": "stdout",
          "text": [
            " Train acc: 0.8220666666666666\n"
          ]
        },
        {
          "output_type": "stream",
          "name": "stderr",
          "text": [
            "100%|██████████| 360000/360000 [00:59<00:00, 6482.47it/s]"
          ]
        },
        {
          "output_type": "stream",
          "name": "stdout",
          "text": [
            " Train acc: 0.8344\n"
          ]
        },
        {
          "output_type": "stream",
          "name": "stderr",
          "text": [
            "100%|██████████| 360000/360000 [01:00<00:00, 5916.85it/s]\n"
          ]
        },
        {
          "output_type": "stream",
          "name": "stdout",
          "text": [
            " Val acc: 0.8452\n",
            "21\n"
          ]
        },
        {
          "output_type": "stream",
          "name": "stderr",
          "text": [
            " 17%|█▋        | 60512/360000 [00:10<00:47, 6340.52it/s]"
          ]
        },
        {
          "output_type": "stream",
          "name": "stdout",
          "text": [
            " Train acc: 0.46745\n"
          ]
        },
        {
          "output_type": "stream",
          "name": "stderr",
          "text": [
            " 33%|███▎      | 120512/360000 [00:20<00:40, 5933.12it/s]"
          ]
        },
        {
          "output_type": "stream",
          "name": "stdout",
          "text": [
            " Train acc: 0.7436833333333334\n"
          ]
        },
        {
          "output_type": "stream",
          "name": "stderr",
          "text": [
            " 50%|█████     | 181024/360000 [00:31<00:31, 5756.47it/s]"
          ]
        },
        {
          "output_type": "stream",
          "name": "stdout",
          "text": [
            " Train acc: 0.7852833333333333\n"
          ]
        },
        {
          "output_type": "stream",
          "name": "stderr",
          "text": [
            " 67%|██████▋   | 240512/360000 [00:41<00:30, 3951.51it/s]"
          ]
        },
        {
          "output_type": "stream",
          "name": "stdout",
          "text": [
            " Train acc: 0.80255\n"
          ]
        },
        {
          "output_type": "stream",
          "name": "stderr",
          "text": [
            " 84%|████████▎ | 301024/360000 [00:52<00:10, 5848.08it/s]"
          ]
        },
        {
          "output_type": "stream",
          "name": "stdout",
          "text": [
            " Train acc: 0.8132\n"
          ]
        },
        {
          "output_type": "stream",
          "name": "stderr",
          "text": [
            "100%|██████████| 360000/360000 [01:02<00:00, 6208.01it/s]"
          ]
        },
        {
          "output_type": "stream",
          "name": "stdout",
          "text": [
            " Train acc: 0.8210833333333334\n"
          ]
        },
        {
          "output_type": "stream",
          "name": "stderr",
          "text": [
            "100%|██████████| 360000/360000 [01:04<00:00, 5580.97it/s]\n"
          ]
        },
        {
          "output_type": "stream",
          "name": "stdout",
          "text": [
            " Val acc: 0.835\n",
            "22\n"
          ]
        },
        {
          "output_type": "stream",
          "name": "stderr",
          "text": [
            " 17%|█▋        | 60512/360000 [00:10<00:50, 5938.01it/s]"
          ]
        },
        {
          "output_type": "stream",
          "name": "stdout",
          "text": [
            " Train acc: 0.32793333333333335\n"
          ]
        },
        {
          "output_type": "stream",
          "name": "stderr",
          "text": [
            " 33%|███▎      | 120512/360000 [00:21<00:41, 5797.40it/s]"
          ]
        },
        {
          "output_type": "stream",
          "name": "stdout",
          "text": [
            " Train acc: 0.5917166666666667\n"
          ]
        },
        {
          "output_type": "stream",
          "name": "stderr",
          "text": [
            " 50%|█████     | 181024/360000 [00:32<00:30, 5878.40it/s]"
          ]
        },
        {
          "output_type": "stream",
          "name": "stdout",
          "text": [
            " Train acc: 0.7646833333333334\n"
          ]
        },
        {
          "output_type": "stream",
          "name": "stderr",
          "text": [
            " 67%|██████▋   | 240512/360000 [00:42<00:24, 4896.23it/s]"
          ]
        },
        {
          "output_type": "stream",
          "name": "stdout",
          "text": [
            " Train acc: 0.8081833333333334\n"
          ]
        },
        {
          "output_type": "stream",
          "name": "stderr",
          "text": [
            " 83%|████████▎ | 300000/360000 [00:52<00:08, 6723.93it/s]"
          ]
        },
        {
          "output_type": "stream",
          "name": "stdout",
          "text": [
            " Train acc: 0.8222166666666667\n"
          ]
        },
        {
          "output_type": "stream",
          "name": "stderr",
          "text": [
            "100%|██████████| 360000/360000 [01:02<00:00, 6719.67it/s]"
          ]
        },
        {
          "output_type": "stream",
          "name": "stdout",
          "text": [
            " Train acc: 0.8327333333333333\n"
          ]
        },
        {
          "output_type": "stream",
          "name": "stderr",
          "text": [
            "100%|██████████| 360000/360000 [01:03<00:00, 5641.76it/s]\n"
          ]
        },
        {
          "output_type": "stream",
          "name": "stdout",
          "text": [
            " Val acc: 0.8402\n",
            "23\n"
          ]
        },
        {
          "output_type": "stream",
          "name": "stderr",
          "text": [
            " 17%|█▋        | 61024/360000 [00:10<00:47, 6344.84it/s]"
          ]
        },
        {
          "output_type": "stream",
          "name": "stdout",
          "text": [
            " Train acc: 0.31461666666666666\n"
          ]
        },
        {
          "output_type": "stream",
          "name": "stderr",
          "text": [
            " 34%|███▎      | 121024/360000 [00:19<00:37, 6419.81it/s]"
          ]
        },
        {
          "output_type": "stream",
          "name": "stdout",
          "text": [
            " Train acc: 0.5738166666666666\n"
          ]
        },
        {
          "output_type": "stream",
          "name": "stderr",
          "text": [
            " 50%|█████     | 181024/360000 [00:30<00:29, 6096.67it/s]"
          ]
        },
        {
          "output_type": "stream",
          "name": "stdout",
          "text": [
            " Train acc: 0.7501666666666666\n"
          ]
        },
        {
          "output_type": "stream",
          "name": "stderr",
          "text": [
            " 67%|██████▋   | 240512/360000 [00:38<00:18, 6308.08it/s]"
          ]
        },
        {
          "output_type": "stream",
          "name": "stdout",
          "text": [
            " Train acc: 0.7899333333333334\n"
          ]
        },
        {
          "output_type": "stream",
          "name": "stderr",
          "text": [
            " 83%|████████▎ | 300512/360000 [00:48<00:09, 6435.77it/s]"
          ]
        },
        {
          "output_type": "stream",
          "name": "stdout",
          "text": [
            " Train acc: 0.8063833333333333\n"
          ]
        },
        {
          "output_type": "stream",
          "name": "stderr",
          "text": [
            "100%|██████████| 360000/360000 [00:58<00:00, 6456.09it/s]"
          ]
        },
        {
          "output_type": "stream",
          "name": "stdout",
          "text": [
            " Train acc: 0.8194833333333333\n"
          ]
        },
        {
          "output_type": "stream",
          "name": "stderr",
          "text": [
            "100%|██████████| 360000/360000 [01:00<00:00, 5969.16it/s]\n"
          ]
        },
        {
          "output_type": "stream",
          "name": "stdout",
          "text": [
            " Val acc: 0.8323\n",
            "24\n"
          ]
        },
        {
          "output_type": "stream",
          "name": "stderr",
          "text": [
            " 17%|█▋        | 60512/360000 [00:10<00:46, 6430.48it/s]"
          ]
        },
        {
          "output_type": "stream",
          "name": "stdout",
          "text": [
            " Train acc: 0.36093333333333333\n"
          ]
        },
        {
          "output_type": "stream",
          "name": "stderr",
          "text": [
            " 34%|███▎      | 121024/360000 [00:20<00:39, 6121.37it/s]"
          ]
        },
        {
          "output_type": "stream",
          "name": "stdout",
          "text": [
            " Train acc: 0.6689166666666667\n"
          ]
        },
        {
          "output_type": "stream",
          "name": "stderr",
          "text": [
            " 50%|█████     | 180512/360000 [00:29<00:30, 5814.81it/s]"
          ]
        },
        {
          "output_type": "stream",
          "name": "stdout",
          "text": [
            " Train acc: 0.722\n"
          ]
        },
        {
          "output_type": "stream",
          "name": "stderr",
          "text": [
            " 67%|██████▋   | 241024/360000 [00:39<00:18, 6337.79it/s]"
          ]
        },
        {
          "output_type": "stream",
          "name": "stdout",
          "text": [
            " Train acc: 0.7591166666666667\n"
          ]
        },
        {
          "output_type": "stream",
          "name": "stderr",
          "text": [
            " 84%|████████▎ | 301024/360000 [00:49<00:09, 6322.29it/s]"
          ]
        },
        {
          "output_type": "stream",
          "name": "stdout",
          "text": [
            " Train acc: 0.7946\n"
          ]
        },
        {
          "output_type": "stream",
          "name": "stderr",
          "text": [
            "100%|██████████| 360000/360000 [00:59<00:00, 6589.19it/s]"
          ]
        },
        {
          "output_type": "stream",
          "name": "stdout",
          "text": [
            " Train acc: 0.8169833333333333\n"
          ]
        },
        {
          "output_type": "stream",
          "name": "stderr",
          "text": [
            "100%|██████████| 360000/360000 [01:00<00:00, 5921.08it/s]\n"
          ]
        },
        {
          "output_type": "stream",
          "name": "stdout",
          "text": [
            " Val acc: 0.8242\n",
            "25\n"
          ]
        },
        {
          "output_type": "stream",
          "name": "stderr",
          "text": [
            " 17%|█▋        | 61024/360000 [00:10<00:48, 6146.38it/s]"
          ]
        },
        {
          "output_type": "stream",
          "name": "stdout",
          "text": [
            " Train acc: 0.3198666666666667\n"
          ]
        },
        {
          "output_type": "stream",
          "name": "stderr",
          "text": [
            " 33%|███▎      | 120000/360000 [00:19<00:47, 5033.44it/s]"
          ]
        },
        {
          "output_type": "stream",
          "name": "stdout",
          "text": [
            " Train acc: 0.6122\n"
          ]
        },
        {
          "output_type": "stream",
          "name": "stderr",
          "text": [
            " 50%|█████     | 181024/360000 [00:29<00:27, 6407.49it/s]"
          ]
        },
        {
          "output_type": "stream",
          "name": "stdout",
          "text": [
            " Train acc: 0.7393166666666666\n"
          ]
        },
        {
          "output_type": "stream",
          "name": "stderr",
          "text": [
            " 67%|██████▋   | 241024/360000 [00:39<00:18, 6374.00it/s]"
          ]
        },
        {
          "output_type": "stream",
          "name": "stdout",
          "text": [
            " Train acc: 0.8006833333333333\n"
          ]
        },
        {
          "output_type": "stream",
          "name": "stderr",
          "text": [
            " 84%|████████▎ | 301024/360000 [00:49<00:09, 6214.09it/s]"
          ]
        },
        {
          "output_type": "stream",
          "name": "stdout",
          "text": [
            " Train acc: 0.8224666666666667\n"
          ]
        },
        {
          "output_type": "stream",
          "name": "stderr",
          "text": [
            "100%|██████████| 360000/360000 [00:59<00:00, 4418.33it/s]"
          ]
        },
        {
          "output_type": "stream",
          "name": "stdout",
          "text": [
            " Train acc: 0.8318833333333333\n"
          ]
        },
        {
          "output_type": "stream",
          "name": "stderr",
          "text": [
            "100%|██████████| 360000/360000 [01:00<00:00, 5922.94it/s]\n"
          ]
        },
        {
          "output_type": "stream",
          "name": "stdout",
          "text": [
            " Val acc: 0.8388\n",
            "26\n"
          ]
        },
        {
          "output_type": "stream",
          "name": "stderr",
          "text": [
            " 17%|█▋        | 60512/360000 [00:09<01:10, 4240.72it/s]"
          ]
        },
        {
          "output_type": "stream",
          "name": "stdout",
          "text": [
            " Train acc: 0.49068333333333336\n"
          ]
        },
        {
          "output_type": "stream",
          "name": "stderr",
          "text": [
            " 34%|███▎      | 121024/360000 [00:19<00:38, 6233.95it/s]"
          ]
        },
        {
          "output_type": "stream",
          "name": "stdout",
          "text": [
            " Train acc: 0.7406666666666667\n"
          ]
        },
        {
          "output_type": "stream",
          "name": "stderr",
          "text": [
            " 50%|█████     | 180512/360000 [00:29<00:28, 6341.95it/s]"
          ]
        },
        {
          "output_type": "stream",
          "name": "stdout",
          "text": [
            " Train acc: 0.7875333333333333\n"
          ]
        },
        {
          "output_type": "stream",
          "name": "stderr",
          "text": [
            " 67%|██████▋   | 241024/360000 [00:39<00:19, 6241.27it/s]"
          ]
        },
        {
          "output_type": "stream",
          "name": "stdout",
          "text": [
            " Train acc: 0.80545\n"
          ]
        },
        {
          "output_type": "stream",
          "name": "stderr",
          "text": [
            " 84%|████████▎ | 301024/360000 [00:49<00:09, 5994.79it/s]"
          ]
        },
        {
          "output_type": "stream",
          "name": "stdout",
          "text": [
            " Train acc: 0.8156833333333333\n"
          ]
        },
        {
          "output_type": "stream",
          "name": "stderr",
          "text": [
            "100%|██████████| 360000/360000 [00:59<00:00, 4674.46it/s]"
          ]
        },
        {
          "output_type": "stream",
          "name": "stdout",
          "text": [
            " Train acc: 0.82425\n"
          ]
        },
        {
          "output_type": "stream",
          "name": "stderr",
          "text": [
            "100%|██████████| 360000/360000 [01:01<00:00, 5841.88it/s]\n"
          ]
        },
        {
          "output_type": "stream",
          "name": "stdout",
          "text": [
            " Val acc: 0.8325\n",
            "27\n"
          ]
        },
        {
          "output_type": "stream",
          "name": "stderr",
          "text": [
            " 17%|█▋        | 60512/360000 [00:09<00:48, 6112.91it/s]"
          ]
        },
        {
          "output_type": "stream",
          "name": "stdout",
          "text": [
            " Train acc: 0.30241666666666667\n"
          ]
        },
        {
          "output_type": "stream",
          "name": "stderr",
          "text": [
            " 33%|███▎      | 120512/360000 [00:19<00:37, 6346.65it/s]"
          ]
        },
        {
          "output_type": "stream",
          "name": "stdout",
          "text": [
            " Train acc: 0.5085166666666666\n"
          ]
        },
        {
          "output_type": "stream",
          "name": "stderr",
          "text": [
            " 50%|█████     | 180512/360000 [00:30<00:29, 6056.84it/s]"
          ]
        },
        {
          "output_type": "stream",
          "name": "stdout",
          "text": [
            " Train acc: 0.66475\n"
          ]
        },
        {
          "output_type": "stream",
          "name": "stderr",
          "text": [
            " 67%|██████▋   | 240512/360000 [00:40<00:19, 6107.99it/s]"
          ]
        },
        {
          "output_type": "stream",
          "name": "stdout",
          "text": [
            " Train acc: 0.7441833333333333\n"
          ]
        },
        {
          "output_type": "stream",
          "name": "stderr",
          "text": [
            " 83%|████████▎ | 300512/360000 [00:50<00:12, 4659.87it/s]"
          ]
        },
        {
          "output_type": "stream",
          "name": "stdout",
          "text": [
            " Train acc: 0.7684833333333333\n"
          ]
        },
        {
          "output_type": "stream",
          "name": "stderr",
          "text": [
            "100%|██████████| 360000/360000 [00:59<00:00, 6115.41it/s]"
          ]
        },
        {
          "output_type": "stream",
          "name": "stdout",
          "text": [
            " Train acc: 0.7789166666666667\n"
          ]
        },
        {
          "output_type": "stream",
          "name": "stderr",
          "text": [
            "100%|██████████| 360000/360000 [01:01<00:00, 5824.18it/s]\n"
          ]
        },
        {
          "output_type": "stream",
          "name": "stdout",
          "text": [
            " Val acc: 0.784\n",
            "28\n"
          ]
        },
        {
          "output_type": "stream",
          "name": "stderr",
          "text": [
            " 17%|█▋        | 61024/360000 [00:09<00:50, 5891.88it/s]"
          ]
        },
        {
          "output_type": "stream",
          "name": "stdout",
          "text": [
            " Train acc: 0.4165333333333333\n"
          ]
        },
        {
          "output_type": "stream",
          "name": "stderr",
          "text": [
            " 33%|███▎      | 120512/360000 [00:20<00:38, 6238.01it/s]"
          ]
        },
        {
          "output_type": "stream",
          "name": "stdout",
          "text": [
            " Train acc: 0.7214333333333334\n"
          ]
        },
        {
          "output_type": "stream",
          "name": "stderr",
          "text": [
            " 50%|█████     | 180512/360000 [00:30<00:29, 6103.17it/s]"
          ]
        },
        {
          "output_type": "stream",
          "name": "stdout",
          "text": [
            " Train acc: 0.7839833333333334\n"
          ]
        },
        {
          "output_type": "stream",
          "name": "stderr",
          "text": [
            " 67%|██████▋   | 240512/360000 [00:40<00:21, 5590.25it/s]"
          ]
        },
        {
          "output_type": "stream",
          "name": "stdout",
          "text": [
            " Train acc: 0.8035333333333333\n"
          ]
        },
        {
          "output_type": "stream",
          "name": "stderr",
          "text": [
            " 83%|████████▎ | 300512/360000 [00:51<00:15, 3887.29it/s]"
          ]
        },
        {
          "output_type": "stream",
          "name": "stdout",
          "text": [
            " Train acc: 0.8162333333333334\n"
          ]
        },
        {
          "output_type": "stream",
          "name": "stderr",
          "text": [
            "100%|██████████| 360000/360000 [01:01<00:00, 5037.30it/s]"
          ]
        },
        {
          "output_type": "stream",
          "name": "stdout",
          "text": [
            " Train acc: 0.8233166666666667\n"
          ]
        },
        {
          "output_type": "stream",
          "name": "stderr",
          "text": [
            "100%|██████████| 360000/360000 [01:03<00:00, 5691.19it/s]\n"
          ]
        },
        {
          "output_type": "stream",
          "name": "stdout",
          "text": [
            " Val acc: 0.8298\n",
            "29\n"
          ]
        },
        {
          "output_type": "stream",
          "name": "stderr",
          "text": [
            " 17%|█▋        | 60512/360000 [00:10<00:54, 5542.01it/s]"
          ]
        },
        {
          "output_type": "stream",
          "name": "stdout",
          "text": [
            " Train acc: 0.42023333333333335\n"
          ]
        },
        {
          "output_type": "stream",
          "name": "stderr",
          "text": [
            " 33%|███▎      | 120512/360000 [00:20<00:39, 6081.08it/s]"
          ]
        },
        {
          "output_type": "stream",
          "name": "stdout",
          "text": [
            " Train acc: 0.6968\n"
          ]
        },
        {
          "output_type": "stream",
          "name": "stderr",
          "text": [
            " 50%|█████     | 180512/360000 [00:31<00:28, 6234.08it/s]"
          ]
        },
        {
          "output_type": "stream",
          "name": "stdout",
          "text": [
            " Train acc: 0.7559333333333333\n"
          ]
        },
        {
          "output_type": "stream",
          "name": "stderr",
          "text": [
            " 67%|██████▋   | 240512/360000 [00:41<00:19, 6157.66it/s]"
          ]
        },
        {
          "output_type": "stream",
          "name": "stdout",
          "text": [
            " Train acc: 0.7840333333333334\n"
          ]
        },
        {
          "output_type": "stream",
          "name": "stderr",
          "text": [
            " 83%|████████▎ | 300512/360000 [00:52<00:13, 4277.92it/s]"
          ]
        },
        {
          "output_type": "stream",
          "name": "stdout",
          "text": [
            " Train acc: 0.8014666666666667\n"
          ]
        },
        {
          "output_type": "stream",
          "name": "stderr",
          "text": [
            "100%|██████████| 360000/360000 [01:02<00:00, 4889.49it/s]"
          ]
        },
        {
          "output_type": "stream",
          "name": "stdout",
          "text": [
            " Train acc: 0.8105166666666667\n"
          ]
        },
        {
          "output_type": "stream",
          "name": "stderr",
          "text": [
            "100%|██████████| 360000/360000 [01:04<00:00, 5591.04it/s]"
          ]
        },
        {
          "output_type": "stream",
          "name": "stdout",
          "text": [
            " Val acc: 0.8191\n"
          ]
        },
        {
          "output_type": "stream",
          "name": "stderr",
          "text": [
            "\n"
          ]
        }
      ]
    },
    {
      "cell_type": "markdown",
      "source": [
        "## Basin broadness"
      ],
      "metadata": {
        "id": "ennSKOX3_jya"
      }
    },
    {
      "cell_type": "code",
      "source": [
        "import functorch\n",
        "hessloader = DataLoader(\n",
        "    dataset=MNIST(\n",
        "        root='data',\n",
        "        train=True,\n",
        "        download=True,\n",
        "        transform=ToTensor(),\n",
        "    ),\n",
        "    batch_size=60000,\n",
        "    shuffle=True,\n",
        ")\n",
        "\n",
        "#par = func_params[-1]\n",
        "volumes = []\n",
        "for model in models:\n",
        "  func, func_params = functorch.make_functional(model)\n",
        "  for x, label in hessloader:\n",
        "\n",
        "    def loss(params):\n",
        "        out = func(func_params[:-1]+ (params,), x)\n",
        "        return loss_fn(out, label)\n",
        "\n",
        "    H=functorch.hessian(loss)((func_params[-1]))\n",
        "    det = torch.det(H+torch.eye(10)*weight_decay)\n",
        "    print(det)\n",
        "    volume = 1/torch.sqrt(det)\n",
        "    print(volume)\n",
        "    volumes.append(volume)\n"
      ],
      "metadata": {
        "colab": {
          "base_uri": "https://localhost:8080/"
        },
        "id": "nGeBGAAPSu-K",
        "outputId": "d746b3f1-fd08-4e15-c46c-de1534ad051f"
      },
      "execution_count": null,
      "outputs": [
        {
          "output_type": "stream",
          "name": "stderr",
          "text": [
            "/usr/local/lib/python3.10/dist-packages/torch/_functorch/deprecated.py:97: UserWarning: We've integrated functorch into PyTorch. As the final step of the integration, functorch.make_functional is deprecated as of PyTorch 2.0 and will be deleted in a future version of PyTorch >= 2.3. Please use torch.func.functional_call instead; see the PyTorch 2.0 release notes and/or the torch.func migration guide for more details https://pytorch.org/docs/master/func.migrating.html\n",
            "  warn_deprecated('make_functional', 'torch.func.functional_call')\n",
            "/usr/local/lib/python3.10/dist-packages/torch/_functorch/deprecated.py:89: UserWarning: We've integrated functorch into PyTorch. As the final step of the integration, functorch.hessian is deprecated as of PyTorch 2.0 and will be deleted in a future version of PyTorch >= 2.3. Please use torch.func.hessian instead; see the PyTorch 2.0 release notes and/or the torch.func migration guide for more details https://pytorch.org/docs/master/func.migrating.html\n",
            "  warn_deprecated('hessian')\n"
          ]
        },
        {
          "output_type": "stream",
          "name": "stdout",
          "text": [
            "tensor(1.8534e-14, grad_fn=<LinalgDetBackward0>)\n",
            "tensor(7345310., grad_fn=<MulBackward0>)\n",
            "tensor(2.6048e-14, grad_fn=<LinalgDetBackward0>)\n",
            "tensor(6196068.5000, grad_fn=<MulBackward0>)\n",
            "tensor(1.7093e-14, grad_fn=<LinalgDetBackward0>)\n",
            "tensor(7648741.5000, grad_fn=<MulBackward0>)\n",
            "tensor(3.0527e-14, grad_fn=<LinalgDetBackward0>)\n",
            "tensor(5723471., grad_fn=<MulBackward0>)\n",
            "tensor(4.8766e-14, grad_fn=<LinalgDetBackward0>)\n",
            "tensor(4528388., grad_fn=<MulBackward0>)\n",
            "tensor(3.3291e-14, grad_fn=<LinalgDetBackward0>)\n",
            "tensor(5480697., grad_fn=<MulBackward0>)\n",
            "tensor(1.3142e-14, grad_fn=<LinalgDetBackward0>)\n",
            "tensor(8723033., grad_fn=<MulBackward0>)\n",
            "tensor(3.4022e-14, grad_fn=<LinalgDetBackward0>)\n",
            "tensor(5421497.5000, grad_fn=<MulBackward0>)\n",
            "tensor(6.0351e-14, grad_fn=<LinalgDetBackward0>)\n",
            "tensor(4070579.5000, grad_fn=<MulBackward0>)\n",
            "tensor(2.2828e-14, grad_fn=<LinalgDetBackward0>)\n",
            "tensor(6618648., grad_fn=<MulBackward0>)\n",
            "tensor(5.6682e-14, grad_fn=<LinalgDetBackward0>)\n",
            "tensor(4200276., grad_fn=<MulBackward0>)\n",
            "tensor(1.9381e-14, grad_fn=<LinalgDetBackward0>)\n",
            "tensor(7183134.5000, grad_fn=<MulBackward0>)\n",
            "tensor(1.7966e-14, grad_fn=<LinalgDetBackward0>)\n",
            "tensor(7460696.5000, grad_fn=<MulBackward0>)\n",
            "tensor(4.6118e-14, grad_fn=<LinalgDetBackward0>)\n",
            "tensor(4656563.5000, grad_fn=<MulBackward0>)\n",
            "tensor(5.9728e-14, grad_fn=<LinalgDetBackward0>)\n",
            "tensor(4091772.2500, grad_fn=<MulBackward0>)\n",
            "tensor(2.8936e-14, grad_fn=<LinalgDetBackward0>)\n",
            "tensor(5878730.5000, grad_fn=<MulBackward0>)\n",
            "tensor(1.1018e-14, grad_fn=<LinalgDetBackward0>)\n",
            "tensor(9526619., grad_fn=<MulBackward0>)\n",
            "tensor(2.3747e-14, grad_fn=<LinalgDetBackward0>)\n",
            "tensor(6489226.5000, grad_fn=<MulBackward0>)\n",
            "tensor(4.0744e-14, grad_fn=<LinalgDetBackward0>)\n",
            "tensor(4954165.5000, grad_fn=<MulBackward0>)\n",
            "tensor(3.6134e-13, grad_fn=<LinalgDetBackward0>)\n",
            "tensor(1663564.7500, grad_fn=<MulBackward0>)\n",
            "tensor(2.1630e-14, grad_fn=<LinalgDetBackward0>)\n",
            "tensor(6799346.5000, grad_fn=<MulBackward0>)\n",
            "tensor(3.0343e-14, grad_fn=<LinalgDetBackward0>)\n",
            "tensor(5740739.5000, grad_fn=<MulBackward0>)\n",
            "tensor(2.7249e-14, grad_fn=<LinalgDetBackward0>)\n",
            "tensor(6057948.5000, grad_fn=<MulBackward0>)\n",
            "tensor(4.2022e-14, grad_fn=<LinalgDetBackward0>)\n",
            "tensor(4878226., grad_fn=<MulBackward0>)\n",
            "tensor(4.3347e-14, grad_fn=<LinalgDetBackward0>)\n",
            "tensor(4803086., grad_fn=<MulBackward0>)\n",
            "tensor(2.9759e-14, grad_fn=<LinalgDetBackward0>)\n",
            "tensor(5796831.5000, grad_fn=<MulBackward0>)\n",
            "tensor(3.3166e-14, grad_fn=<LinalgDetBackward0>)\n",
            "tensor(5490995.5000, grad_fn=<MulBackward0>)\n",
            "tensor(1.1091e-13, grad_fn=<LinalgDetBackward0>)\n",
            "tensor(3002677.7500, grad_fn=<MulBackward0>)\n",
            "tensor(3.3405e-14, grad_fn=<LinalgDetBackward0>)\n",
            "tensor(5471307.5000, grad_fn=<MulBackward0>)\n",
            "tensor(4.8934e-14, grad_fn=<LinalgDetBackward0>)\n",
            "tensor(4520569., grad_fn=<MulBackward0>)\n"
          ]
        }
      ]
    },
    {
      "cell_type": "code",
      "source": [
        "import matplotlib.pyplot as plt\n",
        "print(volumes)\n",
        "print(val_accs)\n",
        "plt.scatter([vol.detach() for vol in volumes],val_accs)"
      ],
      "metadata": {
        "colab": {
          "base_uri": "https://localhost:8080/",
          "height": 520
        },
        "id": "by-cq-nugYpk",
        "outputId": "cb22231d-05b5-45dc-972a-6bdb7994114b"
      },
      "execution_count": null,
      "outputs": [
        {
          "output_type": "stream",
          "name": "stdout",
          "text": [
            "[tensor(7345310., grad_fn=<MulBackward0>), tensor(6196068.5000, grad_fn=<MulBackward0>), tensor(7648741.5000, grad_fn=<MulBackward0>), tensor(5723471., grad_fn=<MulBackward0>), tensor(4528388., grad_fn=<MulBackward0>), tensor(5480697., grad_fn=<MulBackward0>), tensor(8723033., grad_fn=<MulBackward0>), tensor(5421497.5000, grad_fn=<MulBackward0>), tensor(4070579.5000, grad_fn=<MulBackward0>), tensor(6618648., grad_fn=<MulBackward0>), tensor(4200276., grad_fn=<MulBackward0>), tensor(7183134.5000, grad_fn=<MulBackward0>), tensor(7460696.5000, grad_fn=<MulBackward0>), tensor(4656563.5000, grad_fn=<MulBackward0>), tensor(4091772.2500, grad_fn=<MulBackward0>), tensor(5878730.5000, grad_fn=<MulBackward0>), tensor(9526619., grad_fn=<MulBackward0>), tensor(6489226.5000, grad_fn=<MulBackward0>), tensor(4954165.5000, grad_fn=<MulBackward0>), tensor(1663564.7500, grad_fn=<MulBackward0>), tensor(6799346.5000, grad_fn=<MulBackward0>), tensor(5740739.5000, grad_fn=<MulBackward0>), tensor(6057948.5000, grad_fn=<MulBackward0>), tensor(4878226., grad_fn=<MulBackward0>), tensor(4803086., grad_fn=<MulBackward0>), tensor(5796831.5000, grad_fn=<MulBackward0>), tensor(5490995.5000, grad_fn=<MulBackward0>), tensor(3002677.7500, grad_fn=<MulBackward0>), tensor(5471307.5000, grad_fn=<MulBackward0>), tensor(4520569., grad_fn=<MulBackward0>)]\n",
            "[0.8502, 0.8345, 0.8586, 0.8476, 0.8237, 0.8254, 0.8631, 0.8378, 0.8102, 0.8572, 0.8222, 0.8539, 0.8568, 0.8099, 0.8248, 0.8414, 0.8708, 0.8545, 0.8232, 0.7375, 0.8452, 0.835, 0.8402, 0.8323, 0.8242, 0.8388, 0.8325, 0.784, 0.8298, 0.8191]\n"
          ]
        },
        {
          "output_type": "execute_result",
          "data": {
            "text/plain": [
              "<matplotlib.collections.PathCollection at 0x7f1ea55bae90>"
            ]
          },
          "metadata": {},
          "execution_count": 10
        },
        {
          "output_type": "display_data",
          "data": {
            "text/plain": [
              "<Figure size 640x480 with 1 Axes>"
            ],
            "image/png": "[encoded data removed]"
          },
          "metadata": {}
        }
      ]
    },
    {
      "cell_type": "code",
      "source": [
        "get_basin_broadness(model, trainloader, loss_fn)\n",
        "\n"
      ],
      "metadata": {
        "id": "g57LmCEOBui-"
      },
      "execution_count": null,
      "outputs": []
    },
    {
      "cell_type": "code",
      "source": [
        "state_values = tuple(model.state_dict().values())\n",
        "state_dict = {k: v for k, v in zip(model.state_dict(), state_values)}\n",
        "original_state_dict = model.state_dict()\n",
        "model.load_state_dict(state_dict)\n",
        "print(state)"
      ],
      "metadata": {
        "id": "kp2kwHonJHFd"
      },
      "execution_count": null,
      "outputs": []
    },
    {
      "cell_type": "code",
      "source": [
        "\n",
        "\n",
        "\n",
        "    output = model(x)\n",
        "    loss = loss_fn(output, label)\n",
        "\n",
        "    def func(model):\n",
        "        return loss_fn(model(input), label)\n",
        "    print(tuple(model.parameters()))\n",
        "    hessian = torch.func.hessian(func, tuple(model.parameters()))\n",
        "\n",
        "    print(hessian.size())\n",
        "    det = torch.det(hessian)\n",
        "    print(det.size())"
      ],
      "metadata": {
        "id": "3o2sQTsBK3dL"
      },
      "execution_count": null,
      "outputs": []
    }
  ]
}