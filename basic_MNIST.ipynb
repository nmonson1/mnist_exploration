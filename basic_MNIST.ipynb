{
  "nbformat": 4,
  "nbformat_minor": 0,
  "metadata": {
    "colab": {
      "provenance": [],
      "authorship_tag": "ABX9TyPUVZ6yjIWnn8wzGKrEvokD",
      "include_colab_link": true
    },
    "kernelspec": {
      "name": "python3",
      "display_name": "Python 3"
    },
    "language_info": {
      "name": "python"
    },
    "accelerator": "GPU",
    "gpuClass": "standard"
  },
  "cells": [
    {
      "cell_type": "markdown",
      "metadata": {
        "id": "view-in-github",
        "colab_type": "text"
      },
      "source": [
        "<a href=\"https://colab.research.google.com/github/nmonson1/mnist_exploration/blob/main/basic_MNIST.ipynb\" target=\"_parent\"><img src=\"https://colab.research.google.com/assets/colab-badge.svg\" alt=\"Open In Colab\"/></a>"
      ]
    },
    {
      "cell_type": "code",
      "execution_count": null,
      "metadata": {
        "id": "A8_-DJzHW71i"
      },
      "outputs": [],
      "source": [
        "import torch\n",
        "from torch import nn, optim\n",
        "from torch.utils.data import Dataset\n",
        "from torchvision import datasets, transforms\n",
        "from torchvision.transforms import ToTensor\n",
        "import matplotlib.pyplot as plt\n",
        "import os\n",
        "import pandas as pd\n",
        "from torchvision.io import read_image\n",
        "import time, tqdm\n",
        "import numpy as np"
      ]
    },
    {
      "cell_type": "code",
      "source": [
        "training_data = datasets.MNIST(\n",
        "    root=\"data\",\n",
        "    train=True,\n",
        "    download=True,\n",
        "    transform=transforms.Compose(\n",
        "        [transforms.Resize([32,32]),\n",
        "         transforms.RandomRotation(5),\n",
        "         transforms.RandomCrop(28),\n",
        "         transforms.ToTensor()]\n",
        "    )\n",
        ")\n",
        "\n",
        "test_data = datasets.MNIST(\n",
        "    root=\"data\",\n",
        "    train=False,\n",
        "    download=True,\n",
        "    transform=transforms.Compose(\n",
        "        [transforms.Resize([32,32]),\n",
        "         transforms.CenterCrop(28),\n",
        "         transforms.ToTensor()]\n",
        "    )\n",
        ")"
      ],
      "metadata": {
        "colab": {
          "base_uri": "https://localhost:8080/"
        },
        "id": "TfO3KyhyZb86",
        "outputId": "3ceff930-0de0-404c-b044-0d66df6d03f0"
      },
      "execution_count": null,
      "outputs": [
        {
          "output_type": "stream",
          "name": "stdout",
          "text": [
            "Downloading http://yann.lecun.com/exdb/mnist/train-images-idx3-ubyte.gz\n",
            "Downloading http://yann.lecun.com/exdb/mnist/train-images-idx3-ubyte.gz to data/MNIST/raw/train-images-idx3-ubyte.gz\n"
          ]
        },
        {
          "output_type": "stream",
          "name": "stderr",
          "text": [
            "100%|██████████| 9912422/9912422 [00:00<00:00, 199064955.32it/s]"
          ]
        },
        {
          "output_type": "stream",
          "name": "stdout",
          "text": [
            "Extracting data/MNIST/raw/train-images-idx3-ubyte.gz to data/MNIST/raw\n"
          ]
        },
        {
          "output_type": "stream",
          "name": "stderr",
          "text": [
            "\n"
          ]
        },
        {
          "output_type": "stream",
          "name": "stdout",
          "text": [
            "\n",
            "Downloading http://yann.lecun.com/exdb/mnist/train-labels-idx1-ubyte.gz\n",
            "Downloading http://yann.lecun.com/exdb/mnist/train-labels-idx1-ubyte.gz to data/MNIST/raw/train-labels-idx1-ubyte.gz\n"
          ]
        },
        {
          "output_type": "stream",
          "name": "stderr",
          "text": [
            "100%|██████████| 28881/28881 [00:00<00:00, 112058921.21it/s]"
          ]
        },
        {
          "output_type": "stream",
          "name": "stdout",
          "text": [
            "Extracting data/MNIST/raw/train-labels-idx1-ubyte.gz to data/MNIST/raw\n",
            "\n",
            "Downloading http://yann.lecun.com/exdb/mnist/t10k-images-idx3-ubyte.gz\n",
            "Downloading http://yann.lecun.com/exdb/mnist/t10k-images-idx3-ubyte.gz to data/MNIST/raw/t10k-images-idx3-ubyte.gz\n"
          ]
        },
        {
          "output_type": "stream",
          "name": "stderr",
          "text": [
            "\n",
            "100%|██████████| 1648877/1648877 [00:00<00:00, 106624701.62it/s]\n"
          ]
        },
        {
          "output_type": "stream",
          "name": "stdout",
          "text": [
            "Extracting data/MNIST/raw/t10k-images-idx3-ubyte.gz to data/MNIST/raw\n",
            "\n",
            "Downloading http://yann.lecun.com/exdb/mnist/t10k-labels-idx1-ubyte.gz\n",
            "Downloading http://yann.lecun.com/exdb/mnist/t10k-labels-idx1-ubyte.gz to data/MNIST/raw/t10k-labels-idx1-ubyte.gz\n"
          ]
        },
        {
          "output_type": "stream",
          "name": "stderr",
          "text": [
            "100%|██████████| 4542/4542 [00:00<00:00, 21872019.25it/s]\n"
          ]
        },
        {
          "output_type": "stream",
          "name": "stdout",
          "text": [
            "Extracting data/MNIST/raw/t10k-labels-idx1-ubyte.gz to data/MNIST/raw\n",
            "\n"
          ]
        }
      ]
    },
    {
      "cell_type": "code",
      "source": [
        "n_epochs = 20\n",
        "batch_size_train = 64\n",
        "batch_size_test = 64\n",
        "learning_rate = 0.0001\n",
        "log_interval = 100000\n",
        "device='cuda:0'"
      ],
      "metadata": {
        "id": "FNDnEPJ0Zswy"
      },
      "execution_count": null,
      "outputs": []
    },
    {
      "cell_type": "code",
      "source": [
        "train_loader = torch.utils.data.DataLoader(\n",
        "    training_data,\n",
        "    batch_size=batch_size_train,\n",
        "    num_workers=2,\n",
        "    shuffle=True)\n",
        "\n",
        "test_loader = torch.utils.data.DataLoader(\n",
        "    test_data,\n",
        "    batch_size=batch_size_test,\n",
        "    num_workers=2,\n",
        "    shuffle=False)"
      ],
      "metadata": {
        "id": "kuwTXKtlZxRk"
      },
      "execution_count": null,
      "outputs": []
    },
    {
      "cell_type": "code",
      "source": [
        "class NeuralNetwork(nn.Module):\n",
        "    def __init__(self):\n",
        "        super(NeuralNetwork, self).__init__()\n",
        "        self.flatten = nn.Flatten()\n",
        "        self.linear_relu_stack = nn.Sequential(\n",
        "            nn.Linear(28*28, 512),\n",
        "            nn.ReLU(),\n",
        "            nn.Linear(512, 512),\n",
        "            nn.ReLU(),\n",
        "            nn.Linear(512, 10),\n",
        "        )\n",
        "\n",
        "    def forward(self, x):\n",
        "        x = self.flatten(x)\n",
        "        logits = self.linear_relu_stack(x)\n",
        "        return logits"
      ],
      "metadata": {
        "id": "ee3YYTgvZ5ma"
      },
      "execution_count": null,
      "outputs": []
    },
    {
      "cell_type": "code",
      "source": [
        "network = NeuralNetwork().to(device)\n",
        "\n",
        "optimizer = optim.Adam(\n",
        "    network.parameters(),\n",
        "    lr = learning_rate\n",
        ")\n",
        "\n",
        "params = optimizer.param_groups[0]['params']"
      ],
      "metadata": {
        "id": "lPx2HtstaHl9"
      },
      "execution_count": null,
      "outputs": []
    },
    {
      "cell_type": "code",
      "source": [
        "def train(epoch):\n",
        "    start=time.time()\n",
        "    network.train()\n",
        "    train_loss=[]\n",
        "    device = 'cuda:0' if torch.cuda.is_available() else 'cpu'\n",
        "    for batch_idx, (data, target) in enumerate(tqdm.tqdm(train_loader)):\n",
        "        data = data.to(device)\n",
        "        target = target.to(device)\n",
        "        optimizer.zero_grad()\n",
        "        output = network(data)\n",
        "        #loss = F.binary_cross_entropy_with_logits(torch.squeeze(output), target)\n",
        "        #print(\"output = \" + str(output))\n",
        "        #print(\"target = \" +  str(target))\n",
        "        loss = nn.CrossEntropyLoss()(output, target)\n",
        "        train_loss.append(loss.item())\n",
        "        loss.backward()\n",
        "        optimizer.step()\n",
        "        if batch_idx % log_interval == -1:\n",
        "            print('Train Epoch: {} [{}/{} ({:.0f}%)]\\tLoss: {:.6f}'.format(\n",
        "                epoch, batch_idx * len(data), len(train_loader.dataset),\n",
        "                100. * batch_idx / len(train_loader), loss.item()))\n",
        "            #train_losses.append(loss.item())\n",
        "            #train_counter.append(\n",
        "            #    (batch_idx*64) + ((epoch-1)*len(train_loader.dataset)))\n",
        "\n",
        "    tot_time = time.time()-start\n",
        "\n",
        "    print('\\nTrain set: Avg. loss: {:.4f}, Time: {:.1f} secs \\n'.format(np.mean(train_loss), tot_time ))\n",
        "\n",
        "    return np.mean(train_loss)"
      ],
      "metadata": {
        "id": "zhBNbZ5TaLT_"
      },
      "execution_count": null,
      "outputs": []
    },
    {
      "cell_type": "code",
      "source": [
        "#correct!\n",
        "def test():\n",
        "    CM=np.zeros((10,10))\n",
        "    start=time.time()\n",
        "    network.eval()\n",
        "    test_loss = []\n",
        "    correct = 0\n",
        "    device = 'cuda:0' #if torch.cuda.is_available() else 'cpu'\n",
        "    with torch.no_grad():\n",
        "        for data, target in tqdm.tqdm(test_loader):\n",
        "            data = data.to(device)\n",
        "            target = target.to(device)\n",
        "            output = network(data)\n",
        "            #test_loss += F.binary_cross_entropy_with_logits(torch.squeeze(output), target).item()\n",
        "            test_loss.append(nn.CrossEntropyLoss()(output, target).item())\n",
        "            pred = output.data.max(1, keepdim=True)[1]\n",
        "            for t,p in zip(target.cpu().numpy(),pred.cpu().numpy().flatten()):\n",
        "                CM[t,p]+=1\n",
        "    correct=np.sum(np.diag(CM))\n",
        "    tot_time = time.time()-start\n",
        "    torch.save(network.state_dict(), './model_wo_augmentation.pth')\n",
        "    torch.save(optimizer.state_dict(), './optimizer_wo_augmentation.pth')\n",
        "    acc=100. * correct / len(test_loader.dataset)\n",
        "    print('\\nTest set: Avg. loss: {:.4f}, Accuracy: {}/{} - {:.2f}%, Time: {:.1f} secs\\n'.format(np.mean(test_loss), int(correct), len(test_loader.dataset), acc,  tot_time))\n",
        "    return CM, test_loss, acc"
      ],
      "metadata": {
        "id": "x5arV0FZakY9"
      },
      "execution_count": null,
      "outputs": []
    },
    {
      "cell_type": "code",
      "source": [
        "device='cuda:0'\n",
        "network.to(device)\n",
        "train_losses = []\n",
        "test_losses = []\n",
        "test_acc = []\n",
        "CMs = []\n",
        "\n",
        "for epoch in range(n_epochs):\n",
        "    print('Epoch ' + str(epoch + 1))\n",
        "    torch.save(network.state_dict(), './model.pth')\n",
        "    torch.save(optimizer.state_dict(), './optimizer.pth')\n",
        "\n",
        "    CM, test_loss, acc = test()\n",
        "    test_losses.append(test_loss)\n",
        "    CMs.append(CM)\n",
        "    test_acc.append(acc)\n",
        "    print(CM)\n",
        "    t_l = train(epoch+1)\n",
        "    train_losses.append(t_l)"
      ],
      "metadata": {
        "id": "a5WJaazcamkq",
        "colab": {
          "base_uri": "https://localhost:8080/"
        },
        "outputId": "fc2dcf24-7d0c-4632-c7fc-55e857c30b55"
      },
      "execution_count": null,
      "outputs": [
        {
          "output_type": "stream",
          "name": "stderr",
          "text": [
            "100%|██████████| 938/938 [00:18<00:00, 50.68it/s]\n"
          ]
        },
        {
          "output_type": "stream",
          "name": "stdout",
          "text": [
            "\n",
            "Train set: Avg. loss: 0.1214, Time: 18.5 secs \n",
            "\n",
            "Epoch 8\n"
          ]
        },
        {
          "output_type": "stream",
          "name": "stderr",
          "text": [
            "100%|██████████| 157/157 [00:02<00:00, 56.14it/s]\n"
          ]
        },
        {
          "output_type": "stream",
          "name": "stdout",
          "text": [
            "\n",
            "Test set: Avg. loss: 0.0726, Accuracy: 9768/10000 - 97.68%, Time: 2.8 secs\n",
            "\n",
            "[[9.710e+02 0.000e+00 1.000e+00 0.000e+00 0.000e+00 1.000e+00 3.000e+00\n",
            "  1.000e+00 2.000e+00 1.000e+00]\n",
            " [0.000e+00 1.124e+03 4.000e+00 0.000e+00 0.000e+00 0.000e+00 1.000e+00\n",
            "  1.000e+00 5.000e+00 0.000e+00]\n",
            " [5.000e+00 0.000e+00 1.010e+03 3.000e+00 1.000e+00 0.000e+00 1.000e+00\n",
            "  4.000e+00 8.000e+00 0.000e+00]\n",
            " [0.000e+00 0.000e+00 2.000e+00 9.790e+02 0.000e+00 8.000e+00 0.000e+00\n",
            "  9.000e+00 6.000e+00 6.000e+00]\n",
            " [0.000e+00 0.000e+00 0.000e+00 0.000e+00 9.630e+02 0.000e+00 3.000e+00\n",
            "  2.000e+00 1.000e+00 1.300e+01]\n",
            " [3.000e+00 0.000e+00 0.000e+00 9.000e+00 1.000e+00 8.700e+02 3.000e+00\n",
            "  1.000e+00 0.000e+00 5.000e+00]\n",
            " [3.000e+00 2.000e+00 1.000e+00 1.000e+00 6.000e+00 4.000e+00 9.400e+02\n",
            "  0.000e+00 1.000e+00 0.000e+00]\n",
            " [0.000e+00 4.000e+00 9.000e+00 0.000e+00 1.000e+00 0.000e+00 0.000e+00\n",
            "  1.000e+03 3.000e+00 1.100e+01]\n",
            " [4.000e+00 3.000e+00 1.000e+00 2.000e+00 5.000e+00 9.000e+00 4.000e+00\n",
            "  2.000e+00 9.410e+02 3.000e+00]\n",
            " [2.000e+00 4.000e+00 0.000e+00 1.000e+01 1.300e+01 2.000e+00 0.000e+00\n",
            "  6.000e+00 2.000e+00 9.700e+02]]\n"
          ]
        },
        {
          "output_type": "stream",
          "name": "stderr",
          "text": [
            "100%|██████████| 938/938 [00:18<00:00, 51.06it/s]\n"
          ]
        },
        {
          "output_type": "stream",
          "name": "stdout",
          "text": [
            "\n",
            "Train set: Avg. loss: 0.1108, Time: 18.4 secs \n",
            "\n",
            "Epoch 9\n"
          ]
        },
        {
          "output_type": "stream",
          "name": "stderr",
          "text": [
            "100%|██████████| 157/157 [00:02<00:00, 78.10it/s]\n"
          ]
        },
        {
          "output_type": "stream",
          "name": "stdout",
          "text": [
            "\n",
            "Test set: Avg. loss: 0.0689, Accuracy: 9790/10000 - 97.90%, Time: 2.0 secs\n",
            "\n",
            "[[9.660e+02 0.000e+00 1.000e+00 0.000e+00 4.000e+00 1.000e+00 3.000e+00\n",
            "  1.000e+00 3.000e+00 1.000e+00]\n",
            " [0.000e+00 1.126e+03 3.000e+00 0.000e+00 0.000e+00 0.000e+00 1.000e+00\n",
            "  1.000e+00 4.000e+00 0.000e+00]\n",
            " [3.000e+00 1.000e+00 1.012e+03 2.000e+00 1.000e+00 0.000e+00 0.000e+00\n",
            "  4.000e+00 9.000e+00 0.000e+00]\n",
            " [0.000e+00 0.000e+00 4.000e+00 9.930e+02 0.000e+00 0.000e+00 0.000e+00\n",
            "  5.000e+00 6.000e+00 2.000e+00]\n",
            " [0.000e+00 0.000e+00 0.000e+00 0.000e+00 9.710e+02 0.000e+00 2.000e+00\n",
            "  2.000e+00 1.000e+00 6.000e+00]\n",
            " [2.000e+00 0.000e+00 0.000e+00 1.800e+01 2.000e+00 8.580e+02 4.000e+00\n",
            "  1.000e+00 5.000e+00 2.000e+00]\n",
            " [1.000e+00 4.000e+00 1.000e+00 0.000e+00 7.000e+00 2.000e+00 9.410e+02\n",
            "  0.000e+00 2.000e+00 0.000e+00]\n",
            " [0.000e+00 2.000e+00 9.000e+00 2.000e+00 1.000e+00 0.000e+00 0.000e+00\n",
            "  1.001e+03 3.000e+00 1.000e+01]\n",
            " [2.000e+00 1.000e+00 3.000e+00 1.000e+00 7.000e+00 4.000e+00 0.000e+00\n",
            "  2.000e+00 9.530e+02 1.000e+00]\n",
            " [0.000e+00 3.000e+00 0.000e+00 1.000e+01 1.600e+01 4.000e+00 0.000e+00\n",
            "  3.000e+00 4.000e+00 9.690e+02]]\n"
          ]
        },
        {
          "output_type": "stream",
          "name": "stderr",
          "text": [
            "100%|██████████| 938/938 [00:22<00:00, 41.51it/s]\n"
          ]
        },
        {
          "output_type": "stream",
          "name": "stdout",
          "text": [
            "\n",
            "Train set: Avg. loss: 0.1033, Time: 22.6 secs \n",
            "\n",
            "Epoch 10\n"
          ]
        },
        {
          "output_type": "stream",
          "name": "stderr",
          "text": [
            "100%|██████████| 157/157 [00:02<00:00, 61.14it/s]\n"
          ]
        },
        {
          "output_type": "stream",
          "name": "stdout",
          "text": [
            "\n",
            "Test set: Avg. loss: 0.0641, Accuracy: 9793/10000 - 97.93%, Time: 2.6 secs\n",
            "\n",
            "[[9.720e+02 0.000e+00 0.000e+00 0.000e+00 0.000e+00 1.000e+00 3.000e+00\n",
            "  1.000e+00 3.000e+00 0.000e+00]\n",
            " [0.000e+00 1.124e+03 3.000e+00 0.000e+00 0.000e+00 0.000e+00 1.000e+00\n",
            "  1.000e+00 6.000e+00 0.000e+00]\n",
            " [5.000e+00 0.000e+00 1.010e+03 4.000e+00 0.000e+00 0.000e+00 2.000e+00\n",
            "  3.000e+00 8.000e+00 0.000e+00]\n",
            " [0.000e+00 0.000e+00 0.000e+00 1.000e+03 0.000e+00 3.000e+00 0.000e+00\n",
            "  2.000e+00 4.000e+00 1.000e+00]\n",
            " [0.000e+00 0.000e+00 0.000e+00 0.000e+00 9.500e+02 0.000e+00 4.000e+00\n",
            "  3.000e+00 2.000e+00 2.300e+01]\n",
            " [2.000e+00 0.000e+00 0.000e+00 1.100e+01 0.000e+00 8.710e+02 2.000e+00\n",
            "  1.000e+00 2.000e+00 3.000e+00]\n",
            " [2.000e+00 1.000e+00 0.000e+00 0.000e+00 2.000e+00 2.000e+00 9.500e+02\n",
            "  0.000e+00 1.000e+00 0.000e+00]\n",
            " [1.000e+00 3.000e+00 9.000e+00 7.000e+00 1.000e+00 0.000e+00 0.000e+00\n",
            "  9.910e+02 3.000e+00 1.300e+01]\n",
            " [4.000e+00 1.000e+00 2.000e+00 4.000e+00 1.000e+00 5.000e+00 3.000e+00\n",
            "  2.000e+00 9.510e+02 1.000e+00]\n",
            " [1.000e+00 5.000e+00 0.000e+00 1.100e+01 8.000e+00 5.000e+00 0.000e+00\n",
            "  4.000e+00 1.000e+00 9.740e+02]]\n"
          ]
        },
        {
          "output_type": "stream",
          "name": "stderr",
          "text": [
            "100%|██████████| 938/938 [00:20<00:00, 46.83it/s]\n"
          ]
        },
        {
          "output_type": "stream",
          "name": "stdout",
          "text": [
            "\n",
            "Train set: Avg. loss: 0.0978, Time: 20.0 secs \n",
            "\n",
            "Epoch 11\n"
          ]
        },
        {
          "output_type": "stream",
          "name": "stderr",
          "text": [
            "100%|██████████| 157/157 [00:02<00:00, 71.57it/s]\n"
          ]
        },
        {
          "output_type": "stream",
          "name": "stdout",
          "text": [
            "\n",
            "Test set: Avg. loss: 0.0619, Accuracy: 9800/10000 - 98.00%, Time: 2.2 secs\n",
            "\n",
            "[[9.730e+02 0.000e+00 0.000e+00 0.000e+00 0.000e+00 1.000e+00 3.000e+00\n",
            "  1.000e+00 2.000e+00 0.000e+00]\n",
            " [1.000e+00 1.121e+03 3.000e+00 1.000e+00 0.000e+00 0.000e+00 1.000e+00\n",
            "  1.000e+00 7.000e+00 0.000e+00]\n",
            " [5.000e+00 2.000e+00 9.990e+02 6.000e+00 0.000e+00 0.000e+00 1.000e+00\n",
            "  1.000e+01 9.000e+00 0.000e+00]\n",
            " [0.000e+00 0.000e+00 0.000e+00 1.000e+03 0.000e+00 1.000e+00 0.000e+00\n",
            "  4.000e+00 3.000e+00 2.000e+00]\n",
            " [0.000e+00 0.000e+00 0.000e+00 0.000e+00 9.580e+02 0.000e+00 4.000e+00\n",
            "  3.000e+00 1.000e+00 1.600e+01]\n",
            " [2.000e+00 0.000e+00 0.000e+00 1.100e+01 0.000e+00 8.680e+02 2.000e+00\n",
            "  1.000e+00 2.000e+00 6.000e+00]\n",
            " [2.000e+00 1.000e+00 0.000e+00 1.000e+00 4.000e+00 2.000e+00 9.470e+02\n",
            "  0.000e+00 1.000e+00 0.000e+00]\n",
            " [0.000e+00 2.000e+00 6.000e+00 3.000e+00 1.000e+00 0.000e+00 0.000e+00\n",
            "  1.008e+03 3.000e+00 5.000e+00]\n",
            " [4.000e+00 1.000e+00 1.000e+00 4.000e+00 1.000e+00 6.000e+00 4.000e+00\n",
            "  3.000e+00 9.490e+02 1.000e+00]\n",
            " [0.000e+00 2.000e+00 0.000e+00 1.000e+01 9.000e+00 5.000e+00 0.000e+00\n",
            "  5.000e+00 1.000e+00 9.770e+02]]\n"
          ]
        },
        {
          "output_type": "stream",
          "name": "stderr",
          "text": [
            "100%|██████████| 938/938 [00:18<00:00, 50.99it/s]\n"
          ]
        },
        {
          "output_type": "stream",
          "name": "stdout",
          "text": [
            "\n",
            "Train set: Avg. loss: 0.0912, Time: 18.4 secs \n",
            "\n",
            "Epoch 12\n"
          ]
        },
        {
          "output_type": "stream",
          "name": "stderr",
          "text": [
            "100%|██████████| 157/157 [00:03<00:00, 48.09it/s]\n"
          ]
        },
        {
          "output_type": "stream",
          "name": "stdout",
          "text": [
            "\n",
            "Test set: Avg. loss: 0.0618, Accuracy: 9806/10000 - 98.06%, Time: 3.3 secs\n",
            "\n",
            "[[9.720e+02 0.000e+00 1.000e+00 0.000e+00 0.000e+00 1.000e+00 3.000e+00\n",
            "  1.000e+00 2.000e+00 0.000e+00]\n",
            " [1.000e+00 1.129e+03 2.000e+00 0.000e+00 0.000e+00 0.000e+00 1.000e+00\n",
            "  0.000e+00 2.000e+00 0.000e+00]\n",
            " [5.000e+00 3.000e+00 1.009e+03 1.000e+00 2.000e+00 0.000e+00 1.000e+00\n",
            "  5.000e+00 6.000e+00 0.000e+00]\n",
            " [0.000e+00 0.000e+00 0.000e+00 1.000e+03 0.000e+00 0.000e+00 0.000e+00\n",
            "  5.000e+00 3.000e+00 2.000e+00]\n",
            " [0.000e+00 0.000e+00 0.000e+00 0.000e+00 9.700e+02 0.000e+00 2.000e+00\n",
            "  3.000e+00 1.000e+00 6.000e+00]\n",
            " [4.000e+00 2.000e+00 0.000e+00 1.800e+01 1.000e+00 8.570e+02 4.000e+00\n",
            "  2.000e+00 3.000e+00 1.000e+00]\n",
            " [1.000e+00 2.000e+00 0.000e+00 1.000e+00 6.000e+00 1.000e+00 9.470e+02\n",
            "  0.000e+00 0.000e+00 0.000e+00]\n",
            " [0.000e+00 5.000e+00 7.000e+00 1.000e+00 3.000e+00 0.000e+00 0.000e+00\n",
            "  1.005e+03 3.000e+00 4.000e+00]\n",
            " [7.000e+00 1.000e+00 2.000e+00 4.000e+00 5.000e+00 3.000e+00 3.000e+00\n",
            "  3.000e+00 9.440e+02 2.000e+00]\n",
            " [1.000e+00 4.000e+00 0.000e+00 7.000e+00 1.500e+01 2.000e+00 0.000e+00\n",
            "  6.000e+00 1.000e+00 9.730e+02]]\n"
          ]
        },
        {
          "output_type": "stream",
          "name": "stderr",
          "text": [
            "100%|██████████| 938/938 [00:18<00:00, 51.18it/s]\n"
          ]
        },
        {
          "output_type": "stream",
          "name": "stdout",
          "text": [
            "\n",
            "Train set: Avg. loss: 0.0861, Time: 18.3 secs \n",
            "\n",
            "Epoch 13\n"
          ]
        },
        {
          "output_type": "stream",
          "name": "stderr",
          "text": [
            "100%|██████████| 157/157 [00:02<00:00, 74.88it/s]\n"
          ]
        },
        {
          "output_type": "stream",
          "name": "stdout",
          "text": [
            "\n",
            "Test set: Avg. loss: 0.0564, Accuracy: 9823/10000 - 98.23%, Time: 2.1 secs\n",
            "\n",
            "[[9.710e+02 0.000e+00 0.000e+00 0.000e+00 0.000e+00 1.000e+00 5.000e+00\n",
            "  0.000e+00 3.000e+00 0.000e+00]\n",
            " [0.000e+00 1.127e+03 2.000e+00 0.000e+00 0.000e+00 0.000e+00 1.000e+00\n",
            "  1.000e+00 4.000e+00 0.000e+00]\n",
            " [3.000e+00 3.000e+00 1.018e+03 1.000e+00 0.000e+00 0.000e+00 0.000e+00\n",
            "  3.000e+00 4.000e+00 0.000e+00]\n",
            " [0.000e+00 0.000e+00 1.000e+00 9.970e+02 0.000e+00 3.000e+00 0.000e+00\n",
            "  3.000e+00 2.000e+00 4.000e+00]\n",
            " [0.000e+00 1.000e+00 1.000e+00 0.000e+00 9.540e+02 0.000e+00 5.000e+00\n",
            "  4.000e+00 2.000e+00 1.500e+01]\n",
            " [2.000e+00 0.000e+00 0.000e+00 1.000e+01 0.000e+00 8.740e+02 2.000e+00\n",
            "  1.000e+00 0.000e+00 3.000e+00]\n",
            " [1.000e+00 2.000e+00 0.000e+00 0.000e+00 1.000e+00 5.000e+00 9.480e+02\n",
            "  0.000e+00 1.000e+00 0.000e+00]\n",
            " [0.000e+00 5.000e+00 9.000e+00 5.000e+00 0.000e+00 0.000e+00 0.000e+00\n",
            "  1.002e+03 3.000e+00 4.000e+00]\n",
            " [3.000e+00 1.000e+00 1.000e+00 5.000e+00 0.000e+00 4.000e+00 0.000e+00\n",
            "  2.000e+00 9.550e+02 3.000e+00]\n",
            " [0.000e+00 4.000e+00 0.000e+00 9.000e+00 5.000e+00 7.000e+00 1.000e+00\n",
            "  3.000e+00 3.000e+00 9.770e+02]]\n"
          ]
        },
        {
          "output_type": "stream",
          "name": "stderr",
          "text": [
            "100%|██████████| 938/938 [00:19<00:00, 48.55it/s]\n"
          ]
        },
        {
          "output_type": "stream",
          "name": "stdout",
          "text": [
            "\n",
            "Train set: Avg. loss: 0.0810, Time: 19.3 secs \n",
            "\n",
            "Epoch 14\n"
          ]
        },
        {
          "output_type": "stream",
          "name": "stderr",
          "text": [
            "100%|██████████| 157/157 [00:02<00:00, 75.12it/s]\n"
          ]
        },
        {
          "output_type": "stream",
          "name": "stdout",
          "text": [
            "\n",
            "Test set: Avg. loss: 0.0533, Accuracy: 9829/10000 - 98.29%, Time: 2.1 secs\n",
            "\n",
            "[[9.710e+02 0.000e+00 0.000e+00 0.000e+00 0.000e+00 1.000e+00 4.000e+00\n",
            "  1.000e+00 3.000e+00 0.000e+00]\n",
            " [1.000e+00 1.128e+03 3.000e+00 0.000e+00 0.000e+00 0.000e+00 1.000e+00\n",
            "  1.000e+00 1.000e+00 0.000e+00]\n",
            " [1.000e+00 0.000e+00 1.020e+03 1.000e+00 0.000e+00 0.000e+00 0.000e+00\n",
            "  4.000e+00 6.000e+00 0.000e+00]\n",
            " [0.000e+00 0.000e+00 1.000e+00 9.990e+02 0.000e+00 2.000e+00 0.000e+00\n",
            "  4.000e+00 2.000e+00 2.000e+00]\n",
            " [0.000e+00 0.000e+00 1.000e+00 0.000e+00 9.690e+02 0.000e+00 3.000e+00\n",
            "  2.000e+00 1.000e+00 6.000e+00]\n",
            " [2.000e+00 0.000e+00 0.000e+00 1.500e+01 0.000e+00 8.670e+02 2.000e+00\n",
            "  1.000e+00 1.000e+00 4.000e+00]\n",
            " [3.000e+00 2.000e+00 0.000e+00 1.000e+00 3.000e+00 3.000e+00 9.460e+02\n",
            "  0.000e+00 0.000e+00 0.000e+00]\n",
            " [0.000e+00 2.000e+00 1.000e+01 2.000e+00 1.000e+00 0.000e+00 0.000e+00\n",
            "  1.006e+03 3.000e+00 4.000e+00]\n",
            " [5.000e+00 1.000e+00 4.000e+00 4.000e+00 2.000e+00 3.000e+00 1.000e+00\n",
            "  3.000e+00 9.480e+02 3.000e+00]\n",
            " [0.000e+00 3.000e+00 0.000e+00 1.000e+01 1.100e+01 4.000e+00 0.000e+00\n",
            "  4.000e+00 2.000e+00 9.750e+02]]\n"
          ]
        },
        {
          "output_type": "stream",
          "name": "stderr",
          "text": [
            "100%|██████████| 938/938 [00:18<00:00, 50.78it/s]\n"
          ]
        },
        {
          "output_type": "stream",
          "name": "stdout",
          "text": [
            "\n",
            "Train set: Avg. loss: 0.0782, Time: 18.5 secs \n",
            "\n",
            "Epoch 15\n"
          ]
        },
        {
          "output_type": "stream",
          "name": "stderr",
          "text": [
            "100%|██████████| 157/157 [00:02<00:00, 55.39it/s]\n"
          ]
        },
        {
          "output_type": "stream",
          "name": "stdout",
          "text": [
            "\n",
            "Test set: Avg. loss: 0.0521, Accuracy: 9830/10000 - 98.30%, Time: 2.8 secs\n",
            "\n",
            "[[9.700e+02 0.000e+00 0.000e+00 0.000e+00 1.000e+00 1.000e+00 3.000e+00\n",
            "  1.000e+00 3.000e+00 1.000e+00]\n",
            " [0.000e+00 1.128e+03 2.000e+00 0.000e+00 0.000e+00 0.000e+00 1.000e+00\n",
            "  1.000e+00 3.000e+00 0.000e+00]\n",
            " [3.000e+00 2.000e+00 1.001e+03 2.000e+00 6.000e+00 0.000e+00 0.000e+00\n",
            "  1.000e+01 8.000e+00 0.000e+00]\n",
            " [0.000e+00 0.000e+00 0.000e+00 9.960e+02 0.000e+00 2.000e+00 0.000e+00\n",
            "  3.000e+00 2.000e+00 7.000e+00]\n",
            " [0.000e+00 0.000e+00 0.000e+00 0.000e+00 9.690e+02 0.000e+00 2.000e+00\n",
            "  3.000e+00 1.000e+00 7.000e+00]\n",
            " [2.000e+00 0.000e+00 0.000e+00 1.300e+01 0.000e+00 8.700e+02 1.000e+00\n",
            "  1.000e+00 2.000e+00 3.000e+00]\n",
            " [1.000e+00 2.000e+00 0.000e+00 1.000e+00 7.000e+00 5.000e+00 9.420e+02\n",
            "  0.000e+00 0.000e+00 0.000e+00]\n",
            " [0.000e+00 2.000e+00 3.000e+00 2.000e+00 0.000e+00 0.000e+00 0.000e+00\n",
            "  1.014e+03 3.000e+00 4.000e+00]\n",
            " [3.000e+00 1.000e+00 1.000e+00 1.000e+00 3.000e+00 3.000e+00 2.000e+00\n",
            "  3.000e+00 9.550e+02 2.000e+00]\n",
            " [0.000e+00 1.000e+00 0.000e+00 4.000e+00 1.100e+01 3.000e+00 0.000e+00\n",
            "  4.000e+00 1.000e+00 9.850e+02]]\n"
          ]
        },
        {
          "output_type": "stream",
          "name": "stderr",
          "text": [
            "100%|██████████| 938/938 [00:18<00:00, 50.87it/s]\n"
          ]
        },
        {
          "output_type": "stream",
          "name": "stdout",
          "text": [
            "\n",
            "Train set: Avg. loss: 0.0732, Time: 18.4 secs \n",
            "\n",
            "Epoch 16\n"
          ]
        },
        {
          "output_type": "stream",
          "name": "stderr",
          "text": [
            "100%|██████████| 157/157 [00:02<00:00, 72.93it/s]\n"
          ]
        },
        {
          "output_type": "stream",
          "name": "stdout",
          "text": [
            "\n",
            "Test set: Avg. loss: 0.0501, Accuracy: 9845/10000 - 98.45%, Time: 2.2 secs\n",
            "\n",
            "[[9.750e+02 0.000e+00 0.000e+00 0.000e+00 0.000e+00 1.000e+00 2.000e+00\n",
            "  0.000e+00 2.000e+00 0.000e+00]\n",
            " [1.000e+00 1.131e+03 2.000e+00 0.000e+00 0.000e+00 0.000e+00 1.000e+00\n",
            "  0.000e+00 0.000e+00 0.000e+00]\n",
            " [2.000e+00 0.000e+00 1.019e+03 1.000e+00 1.000e+00 0.000e+00 0.000e+00\n",
            "  4.000e+00 5.000e+00 0.000e+00]\n",
            " [0.000e+00 0.000e+00 1.000e+00 1.000e+03 0.000e+00 1.000e+00 0.000e+00\n",
            "  2.000e+00 3.000e+00 3.000e+00]\n",
            " [0.000e+00 0.000e+00 1.000e+00 0.000e+00 9.600e+02 0.000e+00 3.000e+00\n",
            "  3.000e+00 0.000e+00 1.500e+01]\n",
            " [2.000e+00 1.000e+00 0.000e+00 1.700e+01 0.000e+00 8.650e+02 2.000e+00\n",
            "  1.000e+00 3.000e+00 1.000e+00]\n",
            " [1.000e+00 2.000e+00 0.000e+00 1.000e+00 3.000e+00 2.000e+00 9.470e+02\n",
            "  0.000e+00 2.000e+00 0.000e+00]\n",
            " [0.000e+00 2.000e+00 9.000e+00 2.000e+00 0.000e+00 0.000e+00 0.000e+00\n",
            "  1.005e+03 3.000e+00 7.000e+00]\n",
            " [3.000e+00 1.000e+00 5.000e+00 2.000e+00 0.000e+00 2.000e+00 2.000e+00\n",
            "  2.000e+00 9.550e+02 2.000e+00]\n",
            " [0.000e+00 3.000e+00 0.000e+00 5.000e+00 7.000e+00 1.000e+00 1.000e+00\n",
            "  3.000e+00 1.000e+00 9.880e+02]]\n"
          ]
        },
        {
          "output_type": "stream",
          "name": "stderr",
          "text": [
            "100%|██████████| 938/938 [00:19<00:00, 48.10it/s]\n"
          ]
        },
        {
          "output_type": "stream",
          "name": "stdout",
          "text": [
            "\n",
            "Train set: Avg. loss: 0.0694, Time: 19.5 secs \n",
            "\n",
            "Epoch 17\n"
          ]
        },
        {
          "output_type": "stream",
          "name": "stderr",
          "text": [
            "100%|██████████| 157/157 [00:02<00:00, 75.15it/s]\n"
          ]
        },
        {
          "output_type": "stream",
          "name": "stdout",
          "text": [
            "\n",
            "Test set: Avg. loss: 0.0527, Accuracy: 9823/10000 - 98.23%, Time: 2.1 secs\n",
            "\n",
            "[[9.750e+02 0.000e+00 0.000e+00 0.000e+00 0.000e+00 1.000e+00 2.000e+00\n",
            "  1.000e+00 1.000e+00 0.000e+00]\n",
            " [1.000e+00 1.127e+03 2.000e+00 0.000e+00 0.000e+00 0.000e+00 2.000e+00\n",
            "  1.000e+00 2.000e+00 0.000e+00]\n",
            " [5.000e+00 0.000e+00 1.008e+03 2.000e+00 2.000e+00 0.000e+00 1.000e+00\n",
            "  9.000e+00 5.000e+00 0.000e+00]\n",
            " [0.000e+00 0.000e+00 1.000e+00 9.920e+02 0.000e+00 3.000e+00 0.000e+00\n",
            "  5.000e+00 0.000e+00 9.000e+00]\n",
            " [0.000e+00 0.000e+00 1.000e+00 0.000e+00 9.650e+02 0.000e+00 3.000e+00\n",
            "  2.000e+00 0.000e+00 1.100e+01]\n",
            " [2.000e+00 0.000e+00 0.000e+00 1.200e+01 0.000e+00 8.710e+02 2.000e+00\n",
            "  1.000e+00 0.000e+00 4.000e+00]\n",
            " [2.000e+00 2.000e+00 0.000e+00 1.000e+00 5.000e+00 2.000e+00 9.460e+02\n",
            "  0.000e+00 0.000e+00 0.000e+00]\n",
            " [0.000e+00 2.000e+00 7.000e+00 1.000e+00 2.000e+00 0.000e+00 0.000e+00\n",
            "  1.013e+03 1.000e+00 2.000e+00]\n",
            " [8.000e+00 1.000e+00 1.000e+00 2.000e+00 3.000e+00 3.000e+00 4.000e+00\n",
            "  5.000e+00 9.380e+02 9.000e+00]\n",
            " [0.000e+00 1.000e+00 0.000e+00 6.000e+00 1.000e+01 1.000e+00 0.000e+00\n",
            "  3.000e+00 0.000e+00 9.880e+02]]\n"
          ]
        },
        {
          "output_type": "stream",
          "name": "stderr",
          "text": [
            "100%|██████████| 938/938 [00:18<00:00, 49.84it/s]\n"
          ]
        },
        {
          "output_type": "stream",
          "name": "stdout",
          "text": [
            "\n",
            "Train set: Avg. loss: 0.0684, Time: 18.8 secs \n",
            "\n",
            "Epoch 18\n"
          ]
        },
        {
          "output_type": "stream",
          "name": "stderr",
          "text": [
            "100%|██████████| 157/157 [00:02<00:00, 58.91it/s]\n"
          ]
        },
        {
          "output_type": "stream",
          "name": "stdout",
          "text": [
            "\n",
            "Test set: Avg. loss: 0.0471, Accuracy: 9845/10000 - 98.45%, Time: 2.7 secs\n",
            "\n",
            "[[9.690e+02 0.000e+00 0.000e+00 0.000e+00 0.000e+00 0.000e+00 5.000e+00\n",
            "  0.000e+00 6.000e+00 0.000e+00]\n",
            " [0.000e+00 1.125e+03 2.000e+00 0.000e+00 0.000e+00 0.000e+00 2.000e+00\n",
            "  1.000e+00 5.000e+00 0.000e+00]\n",
            " [0.000e+00 0.000e+00 1.016e+03 1.000e+00 2.000e+00 0.000e+00 0.000e+00\n",
            "  4.000e+00 9.000e+00 0.000e+00]\n",
            " [0.000e+00 0.000e+00 0.000e+00 9.950e+02 0.000e+00 5.000e+00 0.000e+00\n",
            "  3.000e+00 4.000e+00 3.000e+00]\n",
            " [0.000e+00 0.000e+00 1.000e+00 1.000e+00 9.690e+02 0.000e+00 3.000e+00\n",
            "  3.000e+00 0.000e+00 5.000e+00]\n",
            " [2.000e+00 0.000e+00 0.000e+00 9.000e+00 0.000e+00 8.760e+02 2.000e+00\n",
            "  1.000e+00 1.000e+00 1.000e+00]\n",
            " [1.000e+00 2.000e+00 0.000e+00 1.000e+00 3.000e+00 4.000e+00 9.470e+02\n",
            "  0.000e+00 0.000e+00 0.000e+00]\n",
            " [0.000e+00 2.000e+00 6.000e+00 1.000e+00 1.000e+00 0.000e+00 0.000e+00\n",
            "  1.014e+03 3.000e+00 1.000e+00]\n",
            " [1.000e+00 0.000e+00 1.000e+00 2.000e+00 0.000e+00 2.000e+00 2.000e+00\n",
            "  2.000e+00 9.630e+02 1.000e+00]\n",
            " [0.000e+00 2.000e+00 0.000e+00 9.000e+00 1.300e+01 4.000e+00 1.000e+00\n",
            "  5.000e+00 4.000e+00 9.710e+02]]\n"
          ]
        },
        {
          "output_type": "stream",
          "name": "stderr",
          "text": [
            "100%|██████████| 938/938 [00:18<00:00, 50.08it/s]\n"
          ]
        },
        {
          "output_type": "stream",
          "name": "stdout",
          "text": [
            "\n",
            "Train set: Avg. loss: 0.0638, Time: 18.7 secs \n",
            "\n",
            "Epoch 19\n"
          ]
        },
        {
          "output_type": "stream",
          "name": "stderr",
          "text": [
            "100%|██████████| 157/157 [00:02<00:00, 76.10it/s]\n"
          ]
        },
        {
          "output_type": "stream",
          "name": "stdout",
          "text": [
            "\n",
            "Test set: Avg. loss: 0.0529, Accuracy: 9822/10000 - 98.22%, Time: 2.1 secs\n",
            "\n",
            "[[9.760e+02 0.000e+00 0.000e+00 0.000e+00 0.000e+00 0.000e+00 2.000e+00\n",
            "  0.000e+00 2.000e+00 0.000e+00]\n",
            " [0.000e+00 1.133e+03 1.000e+00 0.000e+00 0.000e+00 0.000e+00 1.000e+00\n",
            "  0.000e+00 0.000e+00 0.000e+00]\n",
            " [2.000e+00 3.000e+00 1.017e+03 1.000e+00 1.000e+00 0.000e+00 0.000e+00\n",
            "  5.000e+00 3.000e+00 0.000e+00]\n",
            " [0.000e+00 0.000e+00 2.000e+00 9.940e+02 0.000e+00 2.000e+00 0.000e+00\n",
            "  4.000e+00 0.000e+00 8.000e+00]\n",
            " [0.000e+00 0.000e+00 0.000e+00 0.000e+00 9.560e+02 0.000e+00 2.000e+00\n",
            "  3.000e+00 0.000e+00 2.100e+01]\n",
            " [2.000e+00 1.000e+00 0.000e+00 1.400e+01 0.000e+00 8.690e+02 2.000e+00\n",
            "  1.000e+00 0.000e+00 3.000e+00]\n",
            " [4.000e+00 2.000e+00 1.000e+00 1.000e+00 5.000e+00 3.000e+00 9.410e+02\n",
            "  0.000e+00 0.000e+00 1.000e+00]\n",
            " [0.000e+00 2.000e+00 5.000e+00 2.000e+00 0.000e+00 0.000e+00 0.000e+00\n",
            "  1.015e+03 1.000e+00 3.000e+00]\n",
            " [6.000e+00 1.000e+00 4.000e+00 9.000e+00 1.000e+00 5.000e+00 2.000e+00\n",
            "  4.000e+00 9.360e+02 6.000e+00]\n",
            " [0.000e+00 2.000e+00 0.000e+00 7.000e+00 7.000e+00 1.000e+00 0.000e+00\n",
            "  6.000e+00 1.000e+00 9.850e+02]]\n"
          ]
        },
        {
          "output_type": "stream",
          "name": "stderr",
          "text": [
            "100%|██████████| 938/938 [00:19<00:00, 48.07it/s]\n"
          ]
        },
        {
          "output_type": "stream",
          "name": "stdout",
          "text": [
            "\n",
            "Train set: Avg. loss: 0.0615, Time: 19.5 secs \n",
            "\n",
            "Epoch 20\n"
          ]
        },
        {
          "output_type": "stream",
          "name": "stderr",
          "text": [
            "100%|██████████| 157/157 [00:02<00:00, 73.52it/s]\n"
          ]
        },
        {
          "output_type": "stream",
          "name": "stdout",
          "text": [
            "\n",
            "Test set: Avg. loss: 0.0504, Accuracy: 9835/10000 - 98.35%, Time: 2.1 secs\n",
            "\n",
            "[[9.750e+02 0.000e+00 0.000e+00 0.000e+00 0.000e+00 0.000e+00 2.000e+00\n",
            "  1.000e+00 2.000e+00 0.000e+00]\n",
            " [0.000e+00 1.128e+03 3.000e+00 0.000e+00 0.000e+00 0.000e+00 1.000e+00\n",
            "  1.000e+00 2.000e+00 0.000e+00]\n",
            " [0.000e+00 0.000e+00 1.023e+03 0.000e+00 1.000e+00 0.000e+00 1.000e+00\n",
            "  4.000e+00 3.000e+00 0.000e+00]\n",
            " [0.000e+00 0.000e+00 3.000e+00 1.000e+03 0.000e+00 1.000e+00 0.000e+00\n",
            "  3.000e+00 1.000e+00 2.000e+00]\n",
            " [0.000e+00 0.000e+00 1.000e+00 1.000e+00 9.610e+02 0.000e+00 3.000e+00\n",
            "  5.000e+00 0.000e+00 1.100e+01]\n",
            " [2.000e+00 0.000e+00 0.000e+00 2.400e+01 0.000e+00 8.620e+02 1.000e+00\n",
            "  2.000e+00 1.000e+00 0.000e+00]\n",
            " [2.000e+00 2.000e+00 1.000e+00 1.000e+00 4.000e+00 3.000e+00 9.430e+02\n",
            "  0.000e+00 2.000e+00 0.000e+00]\n",
            " [0.000e+00 2.000e+00 8.000e+00 1.000e+00 0.000e+00 0.000e+00 0.000e+00\n",
            "  1.012e+03 2.000e+00 3.000e+00]\n",
            " [3.000e+00 1.000e+00 4.000e+00 6.000e+00 0.000e+00 2.000e+00 1.000e+00\n",
            "  4.000e+00 9.510e+02 2.000e+00]\n",
            " [0.000e+00 1.000e+00 0.000e+00 9.000e+00 7.000e+00 3.000e+00 0.000e+00\n",
            "  8.000e+00 1.000e+00 9.800e+02]]\n"
          ]
        },
        {
          "output_type": "stream",
          "name": "stderr",
          "text": [
            "100%|██████████| 938/938 [00:19<00:00, 47.97it/s]"
          ]
        },
        {
          "output_type": "stream",
          "name": "stdout",
          "text": [
            "\n",
            "Train set: Avg. loss: 0.0602, Time: 19.6 secs \n",
            "\n"
          ]
        },
        {
          "output_type": "stream",
          "name": "stderr",
          "text": [
            "\n"
          ]
        }
      ]
    },
    {
      "cell_type": "code",
      "source": [
        "device = 'cuda:0' if torch.cuda.is_available() else 'cpu'\n",
        "total_loss = torch.Tensor(1)\n",
        "total_loss = total_loss.to(device)\n",
        "for batch_idx, (data, target) in enumerate(tqdm.tqdm(train_loader)):\n",
        "    data = data.to(device)\n",
        "    #print(data)\n",
        "    #break\n",
        "    target = target.to(device)\n",
        "\n",
        "    output = network(data)\n",
        "    loss = nn.CrossEntropyLoss()(output, target)\n",
        "    #loss.to(\"cpu\")\n",
        "    #print(\"tl\", total_loss.device)\n",
        "    #print(\"l\", loss.device)\n",
        "    total_loss += loss\n",
        "    loss.backward()\n",
        "    optimizer.step()\n",
        "    if batch_idx % log_interval == -1:\n",
        "        print('Train Epoch: {} [{}/{} ({:.0f}%)]\\tLoss: {:.6f}'.format(\n",
        "            epoch, batch_idx * len(data), len(train_loader.dataset),\n",
        "            100. * batch_idx / len(train_loader), loss.item()))\n"
      ],
      "metadata": {
        "colab": {
          "base_uri": "https://localhost:8080/"
        },
        "id": "A-XRB4DFgqyV",
        "outputId": "70545c9c-40a6-4682-aec9-2c5867560054"
      },
      "execution_count": null,
      "outputs": [
        {
          "output_type": "stream",
          "name": "stderr",
          "text": [
            "100%|██████████| 938/938 [00:20<00:00, 44.95it/s]\n"
          ]
        }
      ]
    },
    {
      "cell_type": "code",
      "source": [
        "loss.grad"
      ],
      "metadata": {
        "colab": {
          "base_uri": "https://localhost:8080/"
        },
        "id": "P6relvzVu55E",
        "outputId": "46d0d21e-9a51-4791-f5fc-63bd95455824"
      },
      "execution_count": null,
      "outputs": [
        {
          "output_type": "stream",
          "name": "stderr",
          "text": [
            "<ipython-input-51-09a6243c8d35>:1: UserWarning: The .grad attribute of a Tensor that is not a leaf Tensor is being accessed. Its .grad attribute won't be populated during autograd.backward(). If you indeed want the .grad field to be populated for a non-leaf Tensor, use .retain_grad() on the non-leaf Tensor. If you access the non-leaf Tensor by mistake, make sure you access the leaf Tensor instead. See github.com/pytorch/pytorch/pull/30531 for more informations. (Triggered internally at aten/src/ATen/core/TensorBody.h:486.)\n",
            "  loss.grad\n"
          ]
        }
      ]
    },
    {
      "cell_type": "code",
      "source": [
        "\"\"\"okay, our params are at or near a local min. What is the hessian at that min?\n",
        "take output, apply .backward\n",
        "inspect model.param, apply .grad\n",
        " \"\"\"\n",
        "env_grads = torch.autograd.grad(total_loss, params, retain_graph=True, create_graph=True)\n",
        "\n",
        "print(env_grads[0])\n",
        "hess_params = torch.zeros_like(env_grads[0])\n",
        "for i in range(env_grads[0].size(0)):\n",
        "    for j in range(env_grads[0].size(1)):\n",
        "        hess_params[i, j] = torch.autograd.grad(env_grads[0][i][j], params, retain_graph=True)[0][i, j] #  <--- error here\n",
        "print( hess_params )"
      ],
      "metadata": {
        "id": "ehLPd_IsaqTH",
        "colab": {
          "base_uri": "https://localhost:8080/",
          "height": 444
        },
        "outputId": "c08584a8-8eca-4fec-925b-170477976f7e"
      },
      "execution_count": null,
      "outputs": [
        {
          "output_type": "error",
          "ename": "RuntimeError",
          "evalue": "ignored",
          "traceback": [
            "\u001b[0;31m---------------------------------------------------------------------------\u001b[0m",
            "\u001b[0;31mRuntimeError\u001b[0m                              Traceback (most recent call last)",
            "\u001b[0;32m<ipython-input-53-487009577174>\u001b[0m in \u001b[0;36m<cell line: 7>\u001b[0;34m()\u001b[0m\n\u001b[1;32m      5\u001b[0m \u001b[0mparams\u001b[0m \u001b[0;34m=\u001b[0m \u001b[0moptimizer\u001b[0m\u001b[0;34m.\u001b[0m\u001b[0mparam_groups\u001b[0m\u001b[0;34m[\u001b[0m\u001b[0;36m0\u001b[0m\u001b[0;34m]\u001b[0m\u001b[0;34m[\u001b[0m\u001b[0;34m'params'\u001b[0m\u001b[0;34m]\u001b[0m\u001b[0;34m\u001b[0m\u001b[0;34m\u001b[0m\u001b[0m\n\u001b[1;32m      6\u001b[0m \u001b[0;34m\u001b[0m\u001b[0m\n\u001b[0;32m----> 7\u001b[0;31m \u001b[0menv_grads\u001b[0m \u001b[0;34m=\u001b[0m \u001b[0mtorch\u001b[0m\u001b[0;34m.\u001b[0m\u001b[0mautograd\u001b[0m\u001b[0;34m.\u001b[0m\u001b[0mgrad\u001b[0m\u001b[0;34m(\u001b[0m\u001b[0mtotal_loss\u001b[0m\u001b[0;34m,\u001b[0m \u001b[0mparams\u001b[0m\u001b[0;34m,\u001b[0m \u001b[0mretain_graph\u001b[0m\u001b[0;34m=\u001b[0m\u001b[0;32mTrue\u001b[0m\u001b[0;34m,\u001b[0m \u001b[0mcreate_graph\u001b[0m\u001b[0;34m=\u001b[0m\u001b[0;32mTrue\u001b[0m\u001b[0;34m)\u001b[0m\u001b[0;34m\u001b[0m\u001b[0;34m\u001b[0m\u001b[0m\n\u001b[0m\u001b[1;32m      8\u001b[0m \u001b[0;34m\u001b[0m\u001b[0m\n\u001b[1;32m      9\u001b[0m \u001b[0mprint\u001b[0m\u001b[0;34m(\u001b[0m\u001b[0menv_grads\u001b[0m\u001b[0;34m[\u001b[0m\u001b[0;36m0\u001b[0m\u001b[0;34m]\u001b[0m\u001b[0;34m)\u001b[0m\u001b[0;34m\u001b[0m\u001b[0;34m\u001b[0m\u001b[0m\n",
            "\u001b[0;32m/usr/local/lib/python3.10/dist-packages/torch/autograd/__init__.py\u001b[0m in \u001b[0;36mgrad\u001b[0;34m(outputs, inputs, grad_outputs, retain_graph, create_graph, only_inputs, allow_unused, is_grads_batched)\u001b[0m\n\u001b[1;32m    301\u001b[0m         \u001b[0;32mreturn\u001b[0m \u001b[0m_vmap_internals\u001b[0m\u001b[0;34m.\u001b[0m\u001b[0m_vmap\u001b[0m\u001b[0;34m(\u001b[0m\u001b[0mvjp\u001b[0m\u001b[0;34m,\u001b[0m \u001b[0;36m0\u001b[0m\u001b[0;34m,\u001b[0m \u001b[0;36m0\u001b[0m\u001b[0;34m,\u001b[0m \u001b[0mallow_none_pass_through\u001b[0m\u001b[0;34m=\u001b[0m\u001b[0;32mTrue\u001b[0m\u001b[0;34m)\u001b[0m\u001b[0;34m(\u001b[0m\u001b[0mgrad_outputs_\u001b[0m\u001b[0;34m)\u001b[0m\u001b[0;34m\u001b[0m\u001b[0;34m\u001b[0m\u001b[0m\n\u001b[1;32m    302\u001b[0m     \u001b[0;32melse\u001b[0m\u001b[0;34m:\u001b[0m\u001b[0;34m\u001b[0m\u001b[0;34m\u001b[0m\u001b[0m\n\u001b[0;32m--> 303\u001b[0;31m         return Variable._execution_engine.run_backward(  # Calls into the C++ engine to run the backward pass\n\u001b[0m\u001b[1;32m    304\u001b[0m             \u001b[0mt_outputs\u001b[0m\u001b[0;34m,\u001b[0m \u001b[0mgrad_outputs_\u001b[0m\u001b[0;34m,\u001b[0m \u001b[0mretain_graph\u001b[0m\u001b[0;34m,\u001b[0m \u001b[0mcreate_graph\u001b[0m\u001b[0;34m,\u001b[0m \u001b[0mt_inputs\u001b[0m\u001b[0;34m,\u001b[0m\u001b[0;34m\u001b[0m\u001b[0;34m\u001b[0m\u001b[0m\n\u001b[1;32m    305\u001b[0m             allow_unused, accumulate_grad=False)  # Calls into the C++ engine to run the backward pass\n",
            "\u001b[0;31mRuntimeError\u001b[0m: Trying to backward through the graph a second time (or directly access saved tensors after they have already been freed). Saved intermediate values of the graph are freed when you call .backward() or autograd.grad(). Specify retain_graph=True if you need to backward through the graph a second time or if you need to access saved tensors after calling backward."
          ]
        }
      ]
    }
  ]
}